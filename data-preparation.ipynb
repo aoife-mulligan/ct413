{
 "cells": [
  {
   "cell_type": "markdown",
   "metadata": {},
   "source": [
    "## Total Energy Burned\n",
    "Active energy burned and basal energy burned"
   ]
  },
  {
   "cell_type": "code",
   "execution_count": 26,
   "metadata": {},
   "outputs": [
    {
     "name": "stdout",
     "output_type": "stream",
     "text": [
      "                          participantId                 timestamp  \\\n",
      "0  b2571643-4aec-492f-bc7f-6f23c7fe239a 2018-10-03 12:45:22+00:00   \n",
      "1  b2571643-4aec-492f-bc7f-6f23c7fe239a 2018-10-03 12:45:22+00:00   \n",
      "2  b2571643-4aec-492f-bc7f-6f23c7fe239a 2018-10-03 12:45:22+00:00   \n",
      "3  b2571643-4aec-492f-bc7f-6f23c7fe239a 2018-10-03 12:45:22+00:00   \n",
      "4  b2571643-4aec-492f-bc7f-6f23c7fe239a 2018-10-03 12:45:22+00:00   \n",
      "\n",
      "                  startTime                   endTime  value  \n",
      "0 2018-10-03 10:44:19+00:00 2018-10-03 10:44:40+00:00  1.822  \n",
      "1 2018-10-03 10:44:40+00:00 2018-10-03 10:45:41+00:00  0.711  \n",
      "2 2018-10-03 10:45:41+00:00 2018-10-03 10:46:53+00:00  2.267  \n",
      "3 2018-10-03 10:46:53+00:00 2018-10-03 10:47:54+00:00  2.569  \n",
      "4 2018-10-03 10:47:54+00:00 2018-10-03 10:48:25+00:00  0.564  \n",
      "----------------\n",
      "\n",
      "                          participantId                 timestamp  \\\n",
      "0  b2571643-4aec-492f-bc7f-6f23c7fe239a 2018-10-03 12:45:23+00:00   \n",
      "1  b2571643-4aec-492f-bc7f-6f23c7fe239a 2018-10-03 12:45:23+00:00   \n",
      "2  b2571643-4aec-492f-bc7f-6f23c7fe239a 2018-10-03 12:45:23+00:00   \n",
      "3  b2571643-4aec-492f-bc7f-6f23c7fe239a 2018-10-03 12:45:23+00:00   \n",
      "4  b2571643-4aec-492f-bc7f-6f23c7fe239a 2018-10-03 12:45:23+00:00   \n",
      "\n",
      "                  startTime                   endTime   value  \n",
      "0 2018-10-03 04:12:25+00:00 2018-10-03 05:12:25+00:00  65.853  \n",
      "1 2018-10-03 05:12:25+00:00 2018-10-03 06:12:25+00:00  65.853  \n",
      "2 2018-10-03 06:12:25+00:00 2018-10-03 07:12:25+00:00  65.853  \n",
      "3 2018-10-03 07:12:25+00:00 2018-10-03 08:12:25+00:00  65.853  \n",
      "4 2018-10-03 08:12:25+00:00 2018-10-03 09:12:25+00:00  65.853  \n"
     ]
    }
   ],
   "source": [
    "import pandas as pd\n",
    "\n",
    "# Load file into dataframe\n",
    "folder_path = 'c:/Users/aoife/Documents/Project/DataTables/'\n",
    "\n",
    "df_aeb = pd.read_csv(folder_path + 'active-energy-burned.csv', usecols=['participantId', 'timestamp', 'startTime', 'endTime', 'value'], parse_dates=['timestamp', 'startTime', 'endTime'])\n",
    "df_beb = pd.read_csv(folder_path + 'basal-energy-burned.csv', usecols=['participantId', 'timestamp', 'startTime', 'endTime', 'value'], parse_dates=['timestamp', 'startTime', 'endTime'])\n",
    "df_bm = pd.read_csv(folder_path + 'body-mass.csv', usecols=['participantId', 'timestamp', 'value'], parse_dates=['timestamp'])\n",
    "df_h = pd.read_csv(folder_path + 'height.csv', usecols=['participantId', 'timestamp', 'value'], parse_dates=['timestamp'])\n",
    "\n",
    "print(df_aeb.head())\n",
    "print('----------------\\n')\n",
    "print(df_beb.head())\n",
    "\n",
    "# Create a list of dataframes\n",
    "\n",
    "energy_dfs = [df_aeb, df_beb]\n",
    "bmi_dfs = [df_bm, df_h]"
   ]
  },
  {
   "cell_type": "code",
   "execution_count": 27,
   "metadata": {},
   "outputs": [
    {
     "data": {
      "text/plain": [
       "\"print(df_aeb.head())\\nprint('----------------\\n')\\nprint(df_beb.head())\""
      ]
     },
     "execution_count": 27,
     "metadata": {},
     "output_type": "execute_result"
    }
   ],
   "source": [
    "# Create a new column which contains the difference between the start and end time\n",
    "\n",
    "for df in energy_dfs:\n",
    "    if 'startTime' and 'endTime' in df.columns:\n",
    "        df['duration'] = df['endTime'] - df['startTime']\n",
    "\n",
    "\n",
    "\n",
    "'''print(df_aeb.head())\n",
    "print('----------------\\n')\n",
    "print(df_beb.head())'''"
   ]
  },
  {
   "cell_type": "code",
   "execution_count": 28,
   "metadata": {},
   "outputs": [
    {
     "name": "stdout",
     "output_type": "stream",
     "text": [
      "                          participantId                 timestamp  \\\n",
      "0  b2571643-4aec-492f-bc7f-6f23c7fe239a 2018-10-03 12:45:22+00:00   \n",
      "1  b2571643-4aec-492f-bc7f-6f23c7fe239a 2018-10-03 12:45:22+00:00   \n",
      "2  b2571643-4aec-492f-bc7f-6f23c7fe239a 2018-10-03 12:45:22+00:00   \n",
      "3  b2571643-4aec-492f-bc7f-6f23c7fe239a 2018-10-03 12:45:22+00:00   \n",
      "4  b2571643-4aec-492f-bc7f-6f23c7fe239a 2018-10-03 12:45:22+00:00   \n",
      "\n",
      "                  startTime                   endTime  value        duration  \\\n",
      "0 2018-10-03 10:44:19+00:00 2018-10-03 10:44:40+00:00  1.822 0 days 00:00:21   \n",
      "1 2018-10-03 10:44:40+00:00 2018-10-03 10:45:41+00:00  0.711 0 days 00:01:01   \n",
      "2 2018-10-03 10:45:41+00:00 2018-10-03 10:46:53+00:00  2.267 0 days 00:01:12   \n",
      "3 2018-10-03 10:46:53+00:00 2018-10-03 10:47:54+00:00  2.569 0 days 00:01:01   \n",
      "4 2018-10-03 10:47:54+00:00 2018-10-03 10:48:25+00:00  0.564 0 days 00:00:31   \n",
      "\n",
      "    startDate  \n",
      "0  2018-10-03  \n",
      "1  2018-10-03  \n",
      "2  2018-10-03  \n",
      "3  2018-10-03  \n",
      "4  2018-10-03  \n",
      "----------------\n",
      "\n",
      "                          participantId                 timestamp  \\\n",
      "0  b2571643-4aec-492f-bc7f-6f23c7fe239a 2018-10-03 12:45:23+00:00   \n",
      "1  b2571643-4aec-492f-bc7f-6f23c7fe239a 2018-10-03 12:45:23+00:00   \n",
      "2  b2571643-4aec-492f-bc7f-6f23c7fe239a 2018-10-03 12:45:23+00:00   \n",
      "3  b2571643-4aec-492f-bc7f-6f23c7fe239a 2018-10-03 12:45:23+00:00   \n",
      "4  b2571643-4aec-492f-bc7f-6f23c7fe239a 2018-10-03 12:45:23+00:00   \n",
      "\n",
      "                  startTime                   endTime   value        duration  \\\n",
      "0 2018-10-03 04:12:25+00:00 2018-10-03 05:12:25+00:00  65.853 0 days 01:00:00   \n",
      "1 2018-10-03 05:12:25+00:00 2018-10-03 06:12:25+00:00  65.853 0 days 01:00:00   \n",
      "2 2018-10-03 06:12:25+00:00 2018-10-03 07:12:25+00:00  65.853 0 days 01:00:00   \n",
      "3 2018-10-03 07:12:25+00:00 2018-10-03 08:12:25+00:00  65.853 0 days 01:00:00   \n",
      "4 2018-10-03 08:12:25+00:00 2018-10-03 09:12:25+00:00  65.853 0 days 01:00:00   \n",
      "\n",
      "    startDate  \n",
      "0  2018-10-03  \n",
      "1  2018-10-03  \n",
      "2  2018-10-03  \n",
      "3  2018-10-03  \n",
      "4  2018-10-03  \n",
      "----------------\n",
      "\n"
     ]
    },
    {
     "data": {
      "text/plain": [
       "\"df_aeb['startTime'] = pd.to_datetime(df_aeb['startTime'], format='%Y-%m-%dT%H:%M:%SZ')\\n\\ndf_aeb['startDate'] = df_aeb['startTime'].dt.date\\n\\nprint(df_aeb.head())\""
      ]
     },
     "execution_count": 28,
     "metadata": {},
     "output_type": "execute_result"
    }
   ],
   "source": [
    "# Adjust the startTime to contain just the date\n",
    "\n",
    "for df in energy_dfs:\n",
    "    if 'startTime' in df.columns:\n",
    "        df['startTime'] = pd.to_datetime(df['startTime'], format='%Y-%m-%dT%H:%M:%SZ')\n",
    "\n",
    "        df['startDate'] = df['startTime'].dt.date\n",
    "\n",
    "        print(df.head())\n",
    "        print('----------------\\n')\n",
    "\n",
    "'''df_aeb['startTime'] = pd.to_datetime(df_aeb['startTime'], format='%Y-%m-%dT%H:%M:%SZ')\n",
    "\n",
    "df_aeb['startDate'] = df_aeb['startTime'].dt.date\n",
    "\n",
    "print(df_aeb.head())'''"
   ]
  },
  {
   "cell_type": "code",
   "execution_count": 29,
   "metadata": {},
   "outputs": [
    {
     "name": "stdout",
     "output_type": "stream",
     "text": [
      "                            participantId                 timestamp  \\\n",
      "0    b2571643-4aec-492f-bc7f-6f23c7fe239a 2018-10-03 12:45:22+00:00   \n",
      "137  be073dc4-f492-4cf3-a183-31cc15657a3f 2017-09-06 12:52:29+00:00   \n",
      "180  be073dc4-f492-4cf3-a183-31cc15657a3f 2017-09-06 12:52:29+00:00   \n",
      "435  be073dc4-f492-4cf3-a183-31cc15657a3f 2017-09-07 19:39:12+00:00   \n",
      "590  be073dc4-f492-4cf3-a183-31cc15657a3f 2017-09-14 15:16:00+00:00   \n",
      "\n",
      "                    startTime                   endTime    value  \\\n",
      "0   2018-10-03 10:44:19+00:00 2018-10-03 10:44:40+00:00  112.882   \n",
      "137 2017-09-05 23:15:40+00:00 2017-09-05 23:16:42+00:00  130.400   \n",
      "180 2017-09-06 00:00:06+00:00 2017-09-06 00:00:26+00:00  195.420   \n",
      "435 2017-09-07 15:48:13+00:00 2017-09-07 15:49:14+00:00   78.150   \n",
      "590 2017-09-14 13:40:24+00:00 2017-09-14 13:41:27+00:00  128.663   \n",
      "\n",
      "           duration   startDate  \n",
      "0   0 days 02:15:27  2018-10-03  \n",
      "137 0 days 01:18:16  2017-09-05  \n",
      "180 0 days 03:24:02  2017-09-06  \n",
      "435 0 days 02:26:26  2017-09-07  \n",
      "590 0 days 01:32:27  2017-09-14  \n",
      "----------------\n",
      "\n",
      "                           participantId                 timestamp  \\\n",
      "0   b2571643-4aec-492f-bc7f-6f23c7fe239a 2018-10-03 12:45:23+00:00   \n",
      "15  be073dc4-f492-4cf3-a183-31cc15657a3f 2017-09-06 12:52:29+00:00   \n",
      "19  be073dc4-f492-4cf3-a183-31cc15657a3f 2017-09-06 12:52:29+00:00   \n",
      "35  be073dc4-f492-4cf3-a183-31cc15657a3f 2017-09-07 19:39:12+00:00   \n",
      "40  be073dc4-f492-4cf3-a183-31cc15657a3f 2017-09-14 15:16:00+00:00   \n",
      "\n",
      "                   startTime                   endTime    value  \\\n",
      "0  2018-10-03 04:12:25+00:00 2018-10-03 05:12:25+00:00  643.936   \n",
      "15 2017-09-05 23:03:23+00:00 2017-09-05 23:18:25+00:00  207.012   \n",
      "19 2017-09-06 00:02:29+00:00 2017-09-06 00:17:31+00:00  315.590   \n",
      "35 2017-09-07 16:27:41+00:00 2017-09-07 16:42:43+00:00  128.833   \n",
      "40 2017-09-13 23:09:16+00:00 2017-09-14 00:09:16+00:00   81.595   \n",
      "\n",
      "          duration   startDate  \n",
      "0  0 days 09:14:24  2018-10-03  \n",
      "15 0 days 01:58:12  2017-09-05  \n",
      "19 0 days 03:00:28  2017-09-06  \n",
      "35 0 days 01:15:21  2017-09-07  \n",
      "40 0 days 01:00:00  2017-09-13  \n",
      "----------------\n",
      "\n"
     ]
    },
    {
     "data": {
      "text/plain": [
       "\"df_aeb['duration'] = df_aeb.groupby(['participantId', 'startDate'])['duration'].transform('sum')\\ndf_aeb['value'] = df_aeb.groupby(['participantId', 'startDate'])['value'].transform('sum')\\n\\nprint(df_aeb['duration'].head())\""
      ]
     },
     "execution_count": 29,
     "metadata": {},
     "output_type": "execute_result"
    }
   ],
   "source": [
    "# Get the total duration per day for each participant\n",
    "\n",
    "for df in energy_dfs:\n",
    "    if 'duration' in df.columns:\n",
    "        df['duration'] = df.groupby(['participantId', 'startDate'])['duration'].transform('sum')\n",
    "        df['value'] = df.groupby(['participantId', 'startDate'])['value'].transform('sum')\n",
    "\n",
    "        # Drop duplicates\n",
    "        df.drop_duplicates(subset=['participantId', 'startDate'], inplace=True)\n",
    "\n",
    "        print(df.head())\n",
    "        #print(df['value'].head())\n",
    "        print('----------------\\n')\n",
    "\n",
    "'''df_aeb['duration'] = df_aeb.groupby(['participantId', 'startDate'])['duration'].transform('sum')\n",
    "df_aeb['value'] = df_aeb.groupby(['participantId', 'startDate'])['value'].transform('sum')\n",
    "\n",
    "print(df_aeb['duration'].head())'''"
   ]
  },
  {
   "cell_type": "code",
   "execution_count": 30,
   "metadata": {},
   "outputs": [
    {
     "name": "stdout",
     "output_type": "stream",
     "text": [
      "                          participantId  active_energy      duration_x  \\\n",
      "0  00fd4039-9b5e-4bbb-8295-4983a3f58371         13.815 0 days 01:26:33   \n",
      "1  017702d7-e540-4e1a-ab19-ca5f1c34e70b         41.148 0 days 02:01:34   \n",
      "2  01866570-f91f-4d3b-9d41-0a8cdcbfa922         32.569 0 days 02:29:05   \n",
      "3  0292a3a2-5d0b-42a7-ba86-03eae9cda7d5         13.806 0 days 00:15:01   \n",
      "4  048ba877-5df6-47c4-b485-d3538db9e9b4         30.735 0 days 02:14:05   \n",
      "\n",
      "    startDate  basal_energy      duration_y  total_energy  total_duration  \n",
      "0  2018-08-15       227.847 0 days 04:01:00       241.662 0 days 05:27:33  \n",
      "1  2017-12-23       879.016 0 days 12:30:39       920.164 0 days 14:32:13  \n",
      "2  2018-02-25       685.827 0 days 08:29:49       718.396 0 days 10:58:54  \n",
      "3  2017-11-24       933.963 0 days 10:28:11       947.769 0 days 10:43:12  \n",
      "4  2017-11-17       593.295 0 days 08:14:35       624.030 0 days 10:28:40  \n",
      "----------------\n",
      "\n",
      "0   0 days 05:27:33\n",
      "1   0 days 14:32:13\n",
      "2   0 days 10:58:54\n",
      "3   0 days 10:43:12\n",
      "4   0 days 10:28:40\n",
      "Name: total_duration, dtype: timedelta64[ns]\n"
     ]
    }
   ],
   "source": [
    "# Calculate total energy burned and total duration per day\n",
    "\n",
    "# Sort by participantId\n",
    "df_aeb.sort_values(by=['participantId'], inplace=True)\n",
    "df_beb.sort_values(by=['participantId'], inplace=True)\n",
    "\n",
    "# Rename value columns\n",
    "df_aeb.rename(columns={'value': 'active_energy'}, inplace=True)\n",
    "df_beb.rename(columns={'value': 'basal_energy'}, inplace=True)\n",
    "\n",
    "# Merge on participantId and startDate\n",
    "\n",
    "df_energy = pd.merge(df_aeb, df_beb, on=['participantId', 'startDate'])\n",
    "\n",
    "# Create a new column which contains the total energy burned per day\n",
    "\n",
    "df_energy['total_energy'] = df_energy['active_energy'] + df_energy['basal_energy']\n",
    "\n",
    "# Create a new column which contains the total duration per day\n",
    "\n",
    "df_energy['total_duration'] = df_energy['duration_x'] + df_energy['duration_y']\n",
    "\n",
    "# Drop unnecessary columns\n",
    "\n",
    "df_energy.drop(columns=['timestamp_x', 'startTime_x', 'endTime_x', 'timestamp_y', 'startTime_y', 'endTime_y'], inplace=True)\n",
    "\n",
    "print(df_energy.head())\n",
    "print('----------------\\n')\n",
    "print(df_energy['total_duration'].head())\n",
    "\n"
   ]
  },
  {
   "cell_type": "markdown",
   "metadata": {},
   "source": [
    "## BMI\n",
    "\n",
    "Body Mass and Height"
   ]
  },
  {
   "cell_type": "code",
   "execution_count": 31,
   "metadata": {},
   "outputs": [
    {
     "name": "stdout",
     "output_type": "stream",
     "text": [
      "                          participantId                 timestamp       value\n",
      "0  11b2bf4d-6020-4a86-81bd-237c5616c649 2016-08-24 23:56:14+00:00   97.976000\n",
      "1  9cbbb597-30c0-4f48-aebd-7fe58c627cf6 2016-03-16 02:33:20+00:00   63.503000\n",
      "2  941e9fa4-6ba5-41f5-9bcc-805849d751b8 2017-01-01 14:07:00+00:00   96.666000\n",
      "3  41c683b0-f6c4-4a6a-8dd2-4b9a3dd30a32 2016-03-30 02:24:59+00:00  112.846333\n",
      "4  35fbae45-0f21-45ea-8ed7-8d3361a29b86 2016-07-18 17:45:38+00:00   68.690083\n",
      "----------------\n",
      "\n",
      "                          participantId                 timestamp   value\n",
      "0  11b2bf4d-6020-4a86-81bd-237c5616c649 2016-08-24 23:56:14+00:00  1.6256\n",
      "1  9cbbb597-30c0-4f48-aebd-7fe58c627cf6 2016-03-16 02:33:20+00:00  1.6510\n",
      "2  941e9fa4-6ba5-41f5-9bcc-805849d751b8 2017-01-01 14:07:00+00:00  1.8288\n",
      "3  1cba6631-3fb8-4c18-904f-ab56fe82833d 2016-03-07 05:54:00+00:00  1.5494\n",
      "4  eb2c4ff0-54e2-4c34-b73d-003e3e0427ad 2016-04-02 07:17:47+00:00  1.7018\n",
      "----------------\n",
      "\n"
     ]
    }
   ],
   "source": [
    "# Use the groupby function to get the average height/body mass for each participant\n",
    "\n",
    "for df in bmi_dfs:\n",
    "    if 'value' in df.columns:\n",
    "        df['value'] = df.groupby(['participantId'])['value'].transform('mean')\n",
    "\n",
    "        # Drop duplicates\n",
    "        df.drop_duplicates(subset=['participantId'], inplace=True)\n",
    "\n",
    "        print(df.head())\n",
    "        print('----------------\\n')"
   ]
  },
  {
   "cell_type": "code",
   "execution_count": 32,
   "metadata": {},
   "outputs": [
    {
     "name": "stdout",
     "output_type": "stream",
     "text": [
      "                          participantId               timestamp_x  bodyMass  \\\n",
      "0  00a55fb5-da33-4e2e-ae61-28f589fcc174 2016-05-12 19:15:44+00:00    51.256   \n",
      "1  00d6d2ee-ccea-45c7-9772-b19fd9bef2bf 2018-04-20 04:08:33+00:00    74.389   \n",
      "2  00fd4039-9b5e-4bbb-8295-4983a3f58371 2018-08-15 04:32:59+00:00    59.874   \n",
      "3  0113e483-0fc8-4892-a4fc-0b2f3820dde3 2019-03-06 19:58:35+00:00    68.039   \n",
      "4  013d82d7-b3cc-4007-b00c-4d1d75bab9dd 2018-02-21 02:13:48+00:00    76.204   \n",
      "\n",
      "                timestamp_y  height        bmi  \n",
      "0 2016-05-12 19:15:44+00:00  1.5748  20.667783  \n",
      "1 2018-04-20 04:08:33+00:00  1.9050  20.498343  \n",
      "2 2018-08-15 04:32:59+00:00  1.6510  21.965653  \n",
      "3 2019-03-06 19:58:35+00:00  1.7018  23.493130  \n",
      "4 2018-02-21 02:13:48+00:00  1.6002  29.759747  \n"
     ]
    }
   ],
   "source": [
    "# Calculate the BMI for each participant and create a new df\n",
    "\n",
    "# Sort by participantId\n",
    "df_bm.sort_values(by=['participantId'], inplace=True)\n",
    "df_h.sort_values(by=['participantId'], inplace=True)\n",
    "\n",
    "# Rename value columns\n",
    "df_bm.rename(columns={'value': 'bodyMass'}, inplace=True)\n",
    "df_h.rename(columns={'value': 'height'}, inplace=True)\n",
    "\n",
    "# Merge on participantId\n",
    "\n",
    "df_bmi = pd.merge(df_bm, df_h, on='participantId')\n",
    "\n",
    "df_bmi['bmi'] = df_bmi['bodyMass'] / (df_bmi['height'] ** 2)\n",
    "\n",
    "print(df_bmi.head())\n"
   ]
  },
  {
   "cell_type": "markdown",
   "metadata": {},
   "source": [
    "## Heart Rate"
   ]
  },
  {
   "cell_type": "code",
   "execution_count": 33,
   "metadata": {},
   "outputs": [],
   "source": [
    "\n",
    "df_hr = pd.read_csv(folder_path + 'heart-rate.csv', usecols=['participantId', 'timestamp', 'startTime', 'endTime', 'value'], parse_dates=['timestamp', 'startTime', 'endTime'])\n",
    "\n",
    "# Convert value from seconds to minutes\n",
    "\n",
    "# df_hr['value'] = df_hr['value'] * 60"
   ]
  },
  {
   "cell_type": "code",
   "execution_count": 34,
   "metadata": {},
   "outputs": [
    {
     "name": "stdout",
     "output_type": "stream",
     "text": [
      "                          participantId                 timestamp  \\\n",
      "0  06bc6ebb-a233-469f-8091-90256f656b1b 2016-03-13 19:25:18+00:00   \n",
      "1  06bc6ebb-a233-469f-8091-90256f656b1b 2016-03-13 19:25:18+00:00   \n",
      "2  06bc6ebb-a233-469f-8091-90256f656b1b 2016-03-13 19:25:18+00:00   \n",
      "3  06bc6ebb-a233-469f-8091-90256f656b1b 2016-03-13 19:25:18+00:00   \n",
      "4  06bc6ebb-a233-469f-8091-90256f656b1b 2016-03-13 19:25:18+00:00   \n",
      "\n",
      "                  startTime                   endTime  value   startDate  \n",
      "0 2016-03-13 13:52:58+00:00 2016-03-13 13:52:58+00:00  1.500  2016-03-13  \n",
      "1 2016-03-13 13:53:00+00:00 2016-03-13 13:53:00+00:00  1.500  2016-03-13  \n",
      "2 2016-03-13 13:53:01+00:00 2016-03-13 13:53:01+00:00  1.517  2016-03-13  \n",
      "3 2016-03-13 13:53:02+00:00 2016-03-13 13:53:02+00:00  1.533  2016-03-13  \n",
      "4 2016-03-13 13:53:03+00:00 2016-03-13 13:53:03+00:00  1.550  2016-03-13  \n"
     ]
    }
   ],
   "source": [
    "# Convert startTime to datetime and extract date\n",
    "\n",
    "df_hr['startTime'] = pd.to_datetime(df_hr['startTime'], format='%Y-%m-%dT%H:%M:%SZ')\n",
    "df_hr['endTime'] = pd.to_datetime(df_hr['endTime'], format='%Y-%m-%dT%H:%M:%SZ')\n",
    "df_hr['startDate'] = df_hr['startTime'].dt.date\n",
    "print(df_hr.head()) "
   ]
  },
  {
   "cell_type": "code",
   "execution_count": 37,
   "metadata": {},
   "outputs": [
    {
     "name": "stdout",
     "output_type": "stream",
     "text": [
      "                          participantId                 timestamp  \\\n",
      "0  06bc6ebb-a233-469f-8091-90256f656b1b 2016-03-13 19:25:18+00:00   \n",
      "1  06bc6ebb-a233-469f-8091-90256f656b1b 2016-03-13 19:25:18+00:00   \n",
      "2  06bc6ebb-a233-469f-8091-90256f656b1b 2016-03-13 19:25:18+00:00   \n",
      "3  06bc6ebb-a233-469f-8091-90256f656b1b 2016-03-13 19:25:18+00:00   \n",
      "4  06bc6ebb-a233-469f-8091-90256f656b1b 2016-03-13 19:25:18+00:00   \n",
      "\n",
      "                  startTime                   endTime  value   startDate  \\\n",
      "0 2016-03-13 13:52:58+00:00 2016-03-13 13:52:58+00:00  1.500  2016-03-13   \n",
      "1 2016-03-13 13:53:00+00:00 2016-03-13 13:53:00+00:00  1.500  2016-03-13   \n",
      "2 2016-03-13 13:53:01+00:00 2016-03-13 13:53:01+00:00  1.517  2016-03-13   \n",
      "3 2016-03-13 13:53:02+00:00 2016-03-13 13:53:02+00:00  1.533  2016-03-13   \n",
      "4 2016-03-13 13:53:03+00:00 2016-03-13 13:53:03+00:00  1.550  2016-03-13   \n",
      "\n",
      "               prev_endTime  duration  duration_daily  duration_daily  \n",
      "0                       NaT         0             350             350  \n",
      "1 2016-03-13 13:52:58+00:00         0             350             350  \n",
      "2 2016-03-13 13:53:00+00:00         1             350             350  \n",
      "3 2016-03-13 13:53:01+00:00         2             350             350  \n",
      "4 2016-03-13 13:53:02+00:00         3             350             350  \n"
     ]
    }
   ],
   "source": [
    "# Get the total duration per day for each participant\n",
    "# Need to consider that the start and end times are the same for all rows\n",
    "# Figure out how to add the duration based off the end time of the previous row and the start time of the current row\n",
    "# However, if the start time of the current row is larger than the end time of the previous row, do not add the duration, begin a new duration\n",
    "\n",
    "from datetime import timedelta\n",
    "\n",
    "# Function to calculate duration\n",
    "def calculate_duration(group):\n",
    "    group['prev_endTime'] = group['endTime'].shift(fill_value=None)\n",
    "    group['duration'] = 0\n",
    "\n",
    "    mask = (group['startTime'] - group['prev_endTime'] == timedelta(seconds=1))\n",
    "    group.loc[mask, 'duration'] = 1\n",
    "\n",
    "    # If you want to skip rows where startTime is more than 1 second after the previous endTime\n",
    "    # mask = (group['startTime'] - group['prev_endTime'] > timedelta(seconds=1))\n",
    "    # group = group.loc[~mask]\n",
    "\n",
    "    group['duration'] = group['duration'].cumsum()\n",
    "\n",
    "    return group\n",
    "\n",
    "# Apply the function to each group (grouped by participantId and startDate)\n",
    "df_hr = df_hr.groupby(['participantId', 'startDate'], group_keys=False).apply(calculate_duration)\n",
    "\n",
    "# Calculate the total duration per person per day\n",
    "daily_duration = df_hr.groupby(['participantId', 'startDate'])['duration'].max().reset_index()\n",
    "\n",
    "# Merge the calculated durations back into the original dataframe\n",
    "df_hr = pd.merge(df_hr, daily_duration, on=['participantId', 'startDate'], how='left', suffixes=('', '_daily'))\n",
    "\n",
    "print(df_hr.head())\n",
    "\n",
    "\n",
    "\n",
    "\n"
   ]
  },
  {
   "cell_type": "code",
   "execution_count": null,
   "metadata": {},
   "outputs": [],
   "source": [
    "\n"
   ]
  },
  {
   "cell_type": "code",
   "execution_count": 36,
   "metadata": {},
   "outputs": [],
   "source": [
    "# Get the average heart rate per day for each participant\n",
    "\n"
   ]
  },
  {
   "cell_type": "code",
   "execution_count": null,
   "metadata": {},
   "outputs": [],
   "source": [
    "\n"
   ]
  }
 ],
 "metadata": {
  "kernelspec": {
   "display_name": "Python 3",
   "language": "python",
   "name": "python3"
  },
  "language_info": {
   "codemirror_mode": {
    "name": "ipython",
    "version": 3
   },
   "file_extension": ".py",
   "mimetype": "text/x-python",
   "name": "python",
   "nbconvert_exporter": "python",
   "pygments_lexer": "ipython3",
   "version": "3.11.5"
  }
 },
 "nbformat": 4,
 "nbformat_minor": 2
}
