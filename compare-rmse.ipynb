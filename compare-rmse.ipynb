{
 "cells": [
  {
   "cell_type": "code",
   "execution_count": 1,
   "metadata": {},
   "outputs": [
    {
     "name": "stdout",
     "output_type": "stream",
     "text": [
      "Random Forest RMSE / Worst-case RMSE ratio:  0.6998482975607582\n",
      "MLP RMSE / Worst-case MLP ratio:  0.6800262922710891\n",
      "MLP performs better than Random Forest\n"
     ]
    }
   ],
   "source": [
    "random_forest_rmse = 0.9897349537530358\n",
    "random_forest_worst_case = 1.414213562\n",
    "#mlp_rmse = 0.2332595108233806\n",
    "keras_rmse = 0.24042560160160065\n",
    "keras_worst_case = 0.353553391\n",
    "\n",
    "random_forest_ratio = random_forest_rmse / random_forest_worst_case\n",
    "keras_ratio = keras_rmse / keras_worst_case\n",
    "\n",
    "print(\"Random Forest RMSE / Worst-case RMSE ratio: \", random_forest_ratio)\n",
    "print(\"MLP RMSE / Worst-case MLP ratio: \", keras_ratio)\n",
    "\n",
    "if(random_forest_ratio < keras_ratio):\n",
    "    print(\"Random Forest performs better than MLP\")\n",
    "else:\n",
    "    print(\"MLP performs better than Random Forest\")"
   ]
  }
 ],
 "metadata": {
  "kernelspec": {
   "display_name": "Python 3",
   "language": "python",
   "name": "python3"
  },
  "language_info": {
   "codemirror_mode": {
    "name": "ipython",
    "version": 3
   },
   "file_extension": ".py",
   "mimetype": "text/x-python",
   "name": "python",
   "nbconvert_exporter": "python",
   "pygments_lexer": "ipython3",
   "version": "3.11.5"
  }
 },
 "nbformat": 4,
 "nbformat_minor": 2
}
