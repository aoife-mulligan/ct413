{
 "cells": [
  {
   "cell_type": "markdown",
   "metadata": {},
   "source": [
    "# Merging Data\n",
    "\n",
    "This file will convert csvs to dataframes, merge them into a single representation, and save to a single csv."
   ]
  },
  {
   "cell_type": "code",
   "execution_count": null,
   "metadata": {},
   "outputs": [],
   "source": [
    "# Read in dataframes\n",
    "\n",
    "import pandas as pd\n",
    "\n",
    "folder_path = 'C:\\\\Users\\\\aoife\\Documents\\\\Project\\\\filtered_data\\\\'\n",
    "\n",
    "# Read in dataframes\n",
    "df_bmi = pd.read_csv(folder_path + 'bmi.csv')\n",
    "df_energy = pd.read_csv(folder_path + 'energy.csv')\n",
    "df_hr = pd.read_csv(folder_path + 'hr.csv')\n",
    "df_naps = pd.read_csv(folder_path + 'nt.csv')\n",
    "df_steps = pd.read_csv(folder_path + 'sc.csv')\n",
    "df_walk_run = pd.read_csv(folder_path + 'dwr.csv')\n",
    "df_sleep = pd.read_csv(folder_path + 'sq.csv')\n",
    "\n",
    "# Add to list\n",
    "df_list = [df_bmi, df_energy, df_hr, df_naps, df_steps, df_walk_run, df_sleep]"
   ]
  },
  {
   "cell_type": "code",
   "execution_count": null,
   "metadata": {},
   "outputs": [],
   "source": [
    "# Merge and print the dataframe\n",
    "merged_dfs = df_list[0]\n",
    "\n",
    "for df in df_list[1:]:\n",
    "  merged_dfs = pd.merge(merged_dfs, df, on=['participantId', 'startDate'], how='outer', suffixes=('', '_y'))\n",
    "  del df\n",
    "  print('merged')\n",
    "\n",
    "\n",
    "print(\"Merged Data:\")\n",
    "print(merged_dfs)"
   ]
  },
  {
   "cell_type": "code",
   "execution_count": null,
   "metadata": {},
   "outputs": [],
   "source": [
    "# Save to single csv\n",
    "\n",
    "merged_dfs.to_csv(folder_path + 'merged_data.csv', index=False)"
   ]
  }
 ],
 "metadata": {
  "kernelspec": {
   "display_name": "Python 3",
   "language": "python",
   "name": "python3"
  },
  "language_info": {
   "codemirror_mode": {
    "name": "ipython",
    "version": 3
   },
   "file_extension": ".py",
   "mimetype": "text/x-python",
   "name": "python",
   "nbconvert_exporter": "python",
   "pygments_lexer": "ipython3",
   "version": "3.11.5"
  }
 },
 "nbformat": 4,
 "nbformat_minor": 2
}
