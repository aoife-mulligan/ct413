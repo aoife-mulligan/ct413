{
 "cells": [
  {
   "cell_type": "markdown",
   "metadata": {},
   "source": [
    "# Merging Data\n",
    "\n",
    "This file will convert csvs to dataframes, merge them into a single representation, and save to a single csv."
   ]
  },
  {
   "cell_type": "code",
   "execution_count": 4,
   "metadata": {},
   "outputs": [],
   "source": [
    "# Read in dataframes\n",
    "\n",
    "import pandas as pd\n",
    "\n",
    "folder_path = 'C:\\\\Users\\\\aoife\\Documents\\\\Project\\\\filtered_data\\\\'\n",
    "\n",
    "# Read in dataframes\n",
    "df_bmi = pd.read_csv(folder_path + 'bmi.csv')\n",
    "df_energy = pd.read_csv(folder_path + 'energy.csv')\n",
    "df_hr = pd.read_csv(folder_path + 'hr.csv')\n",
    "df_naps = pd.read_csv(folder_path + 'nt.csv')\n",
    "df_steps = pd.read_csv(folder_path + 'sc.csv')\n",
    "df_walk_run = pd.read_csv(folder_path + 'dwr.csv')\n",
    "df_sleep = pd.read_csv(folder_path + 'sq.csv')\n",
    "\n",
    "# Add to list\n",
    "df_list = [df_bmi, df_energy, df_hr, df_naps, df_steps, df_walk_run, df_sleep]"
   ]
  },
  {
   "cell_type": "code",
   "execution_count": 5,
   "metadata": {},
   "outputs": [
    {
     "name": "stdout",
     "output_type": "stream",
     "text": [
      "merged\n",
      "merged\n",
      "merged\n",
      "merged\n",
      "merged\n",
      "Merged Data:\n",
      "                              participantId  bodyMass  height   startDate  \\\n",
      "0      00a55fb5-da33-4e2e-ae61-28f589fcc174    51.256  1.5748  2016-05-12   \n",
      "1      013d82d7-b3cc-4007-b00c-4d1d75bab9dd    76.204  1.6002  2018-02-21   \n",
      "2      02d5125e-684f-4166-a3b7-5df1bcfc1661    59.874  1.7018  2016-03-05   \n",
      "3      02de7b9b-6116-4ed4-9e3b-45be928aeacb   122.470  1.6256  2018-09-24   \n",
      "4      02e48b8f-c154-4878-ab08-c73502a54aae    94.347  1.8034  2016-09-13   \n",
      "...                                     ...       ...     ...         ...   \n",
      "13526  28e03203-73df-4bd6-b604-f42088940e1b       NaN     NaN  2019-06-26   \n",
      "13527  e47e109a-235c-4dd9-b876-f98ca198c967       NaN     NaN  2019-06-26   \n",
      "13528  f6b0f802-6212-4824-a63f-987e4a796bb5       NaN     NaN  2019-06-27   \n",
      "13529  d5d4940d-a826-44ab-a6a1-69fccbe1f80e       NaN     NaN  2019-06-27   \n",
      "13530  3bb0a251-7fa7-4ec0-999f-00aab399a8f1       NaN     NaN  2019-06-27   \n",
      "\n",
      "             bmi  active_energy active_duration  basal_energy basal_duration  \\\n",
      "0      20.667783            NaN             NaN           NaN            NaN   \n",
      "1      29.759747            NaN             NaN           NaN            NaN   \n",
      "2      20.673844            NaN             NaN           NaN            NaN   \n",
      "3      46.344941            NaN             NaN           NaN            NaN   \n",
      "4      29.009749            NaN             NaN           NaN            NaN   \n",
      "...          ...            ...             ...           ...            ...   \n",
      "13526        NaN            NaN             NaN           NaN            NaN   \n",
      "13527        NaN            NaN             NaN           NaN            NaN   \n",
      "13528        NaN            NaN             NaN           NaN            NaN   \n",
      "13529        NaN            NaN             NaN           NaN            NaN   \n",
      "13530        NaN            NaN             NaN           NaN            NaN   \n",
      "\n",
      "       total_energy  ... mean_hr/s  hr_duration_(s)  max_hr  min_hr  \\\n",
      "0               NaN  ...  1.438426             47.0   1.783   1.017   \n",
      "1               NaN  ...       NaN              NaN     NaN     NaN   \n",
      "2               NaN  ...  1.107266             64.0   1.783   0.617   \n",
      "3               NaN  ...  1.350000              1.0   1.350   1.350   \n",
      "4               NaN  ...  1.081226             31.0   1.467   0.833   \n",
      "...             ...  ...       ...              ...     ...     ...   \n",
      "13526           NaN  ...       NaN              NaN     NaN     NaN   \n",
      "13527           NaN  ...       NaN              NaN     NaN     NaN   \n",
      "13528           NaN  ...       NaN              NaN     NaN     NaN   \n",
      "13529           NaN  ...       NaN              NaN     NaN     NaN   \n",
      "13530           NaN  ...       NaN              NaN     NaN     NaN   \n",
      "\n",
      "       totalNapTime_(s)  avgNapQuality  totalSteps  stepsTotalDuration  \\\n",
      "0                   NaN            NaN        34.0     0 days 00:00:15   \n",
      "1                   NaN            NaN        17.0     0 days 00:06:20   \n",
      "2                   NaN            NaN         8.0     0 days 00:00:03   \n",
      "3                   NaN            NaN         NaN                 NaN   \n",
      "4                   NaN            NaN         NaN                 NaN   \n",
      "...                 ...            ...         ...                 ...   \n",
      "13526               NaN            NaN         NaN                 NaN   \n",
      "13527               NaN            NaN         NaN                 NaN   \n",
      "13528               NaN            NaN         NaN                 NaN   \n",
      "13529               NaN            NaN         NaN                 NaN   \n",
      "13530               NaN            NaN         NaN                 NaN   \n",
      "\n",
      "      totalSteps.1  ssq_score  \n",
      "0           4454.0        3.0  \n",
      "1            120.0        3.0  \n",
      "2          10790.0        4.0  \n",
      "3              NaN        4.0  \n",
      "4              NaN        3.0  \n",
      "...            ...        ...  \n",
      "13526          NaN        4.0  \n",
      "13527          NaN        4.0  \n",
      "13528          NaN        4.0  \n",
      "13529          NaN        3.0  \n",
      "13530          NaN        3.0  \n",
      "\n",
      "[13531 rows x 21 columns]\n"
     ]
    }
   ],
   "source": [
    "# Merge and print the dataframe\n",
    "merged_dfs = df_list[0]\n",
    "\n",
    "for df in df_list[1:]:\n",
    "  merged_dfs = pd.merge(merged_dfs, df, on=['participantId', 'startDate'], how='outer', suffixes=('', '_y'))\n",
    "  del df\n",
    "  print('merged')\n",
    "\n",
    "\n",
    "print(\"Merged Data:\")\n",
    "print(merged_dfs)"
   ]
  },
  {
   "cell_type": "code",
   "execution_count": 6,
   "metadata": {},
   "outputs": [],
   "source": [
    "# Save to single csv\n",
    "\n",
    "merged_dfs.to_csv(folder_path + 'merged_data.csv', index=False)"
   ]
  }
 ],
 "metadata": {
  "kernelspec": {
   "display_name": "Python 3",
   "language": "python",
   "name": "python3"
  },
  "language_info": {
   "codemirror_mode": {
    "name": "ipython",
    "version": 3
   },
   "file_extension": ".py",
   "mimetype": "text/x-python",
   "name": "python",
   "nbconvert_exporter": "python",
   "pygments_lexer": "ipython3",
   "version": "3.11.5"
  }
 },
 "nbformat": 4,
 "nbformat_minor": 2
}
