{
 "cells": [
  {
   "cell_type": "markdown",
   "metadata": {},
   "source": [
    "# Data Normalisation\n",
    "\n",
    "Using Z-Normalisation\n",
    "\n"
   ]
  },
  {
   "cell_type": "code",
   "execution_count": 25,
   "metadata": {},
   "outputs": [],
   "source": [
    "import pandas as pd\n",
    "\n",
    "# import data\n",
    "folder_path = 'C:\\\\Users\\\\aoife\\Documents\\\\Project\\\\filtered_data\\\\'\n",
    "\n",
    "df = pd.read_csv(folder_path + '23_02_activity_and_survey_data.csv', usecols=['participantId', 'bodyMass_kg', 'height_m', 'bmi', 'mean_hr/s', 'hr_duration_(s)', 'max_hr', 'min_hr', 'totalSteps', 'steps_per_hour', 'totalDistance', 'dist_per_hour', 'ssq_score', 'alcohol_consumption', 'basic_expenses', 'caffeine', 'daily_activities', 'daily_smoking', 'education', 'flexible_work_hours', 'gender', 'good_life', 'hispanic','income', 'marital', 'race', 'smoking_status', 'menopause', 'recent_births', 'current_pregnant', 'work_schedule', 'alarm_dependency', 'driving_sleepy', 'falling_asleep', 'morning_person', 'nap_duration', 'sleep_lost', 'sleep_needed', 'sleep_partner', 'sleep_time_workday', 'sleep_time_weekend', 'wake_up_choices', 'wake_ups', 'weekly_naps', 'noise_light', 'stress_thinking', 'other_person', 'pain_discomfort', 'nightmares', 'bathroom_urges', 'other_reasons'])\n"
   ]
  },
  {
   "cell_type": "code",
   "execution_count": 27,
   "metadata": {},
   "outputs": [],
   "source": [
    "# define minimum and maximum values for each feature\n",
    "# for versions of dataset where 'unknown', and 'prefer not to say' are removed\n",
    "\n",
    "min_max_values = {\n",
    "    'bodyMass_kg': {'min': 0, 'max': 635},\n",
    "    'height_m': {'min': 0, 'max': 2.72},\n",
    "    'bmi': {'min': 0, 'max': 204},\n",
    "    'mean_hr/s': {'min': 0, 'max': 4},\n",
    "    'hr_duration_(s)': {'min': 0, 'max': 86400},\n",
    "    'max_hr': {'min': 0, 'max': 4},\n",
    "    'min_hr': {'min': 0, 'max': 4},\n",
    "    'totalSteps': {'min': 0, 'max': 238000},\n",
    "    'steps_per_hour': {'min': 0, 'max': 31835},\n",
    "    'totalDistance': {'min': 0, 'max': 160000},\n",
    "    'dist_per_hour': {'min': 0, 'max': 21330},\n",
    "    'ssq_score': {'min': 1, 'max': 5},\n",
    "    'alcohol_consumption': {'min': 0, 'max': 5},\n",
    "    'basic_expenses': {'min': 1, 'max': 4},\n",
    "    'caffeine': {'min': 0, 'max': 60},\n",
    "    'daily_activities': {'min': 1, 'max': 9},\n",
    "    'daily_smoking': {'min': 1, 'max': 3},\n",
    "    'education': {'min': 1, 'max': 6},\n",
    "    'flexible_work_hours': {'min': 1, 'max': 2},\n",
    "    'gender': {'min': 1, 'max': 2},\n",
    "    'good_life': {'min': 1, 'max': 2},\n",
    "    'hispanic': {'min': 1, 'max': 6},\n",
    "    'income': {'min': 1, 'max': 7},\n",
    "    'marital': {'min': 1, 'max': 6},\n",
    "    'smoking_status': {'min': 1, 'max': 9},\n",
    "    'menopause': {'min': 1, 'max': 3},\n",
    "    'recent_births': {'min': 1, 'max': 4},\n",
    "    'current_pregnant': {'min': 0, 'max': 2},  \n",
    "    'work_schedule': {'min': 1, 'max': 6},\n",
    "    'alarm_dependency': {'min': 1, 'max': 4},\n",
    "    'driving_sleepy': {'min': 1, 'max': 5},\n",
    "    'falling_asleep': {'min': 1, 'max': 7},\n",
    "    'morning_person': {'min': 1, 'max': 2},\n",
    "    'nap_duration': {'min': 1, 'max': 7},\n",
    "    'sleep_lost': {'min': 0, 'max': 1440},\n",
    "    'sleep_needed': {'min': 0, 'max': 24},\n",
    "    'sleep_partner': {'min': 1, 'max': 6},\n",
    "    'sleep_time_workday': {'min': 0, 'max': 24},\n",
    "    'sleep_time_weekend': {'min': 0, 'max': 24},\n",
    "    'wake_up_choices': {'min': 1, 'max': 10},\n",
    "    'wake_ups': {'min': 0, 'max': 30},\n",
    "    'weekly_naps': {'min': 1, 'max': 5},\n",
    "    'noise_light': {'min': 0, 'max': 1},\n",
    "    'stress_thinking': {'min': 0, 'max': 1},\n",
    "    'other_person': {'min': 0, 'max': 1},\n",
    "    'pain_discomfort': {'min': 0, 'max': 1},\n",
    "    'nightmares': {'min': 0, 'max': 1},\n",
    "    'bathroom_urges': {'min': 0, 'max': 1},\n",
    "    'other_reasons': {'min': 0, 'max': 1}\n",
    "}\n",
    "\n",
    "\n"
   ]
  },
  {
   "cell_type": "code",
   "execution_count": 28,
   "metadata": {},
   "outputs": [],
   "source": [
    "# function for min-max normalisation\n",
    "\n",
    "def min_max_normalisation(series, min_val, max_val):\n",
    "    return (series - min_val) / (max_val - min_val)"
   ]
  },
  {
   "cell_type": "code",
   "execution_count": 29,
   "metadata": {},
   "outputs": [],
   "source": [
    "# Call function on each feature/column\n",
    "\n",
    "for feature in min_max_values:\n",
    "    minimum = min_max_values[feature]['min']\n",
    "    maximum = min_max_values[feature]['max']\n",
    "    df[feature] = min_max_normalisation(df[feature], minimum, maximum)"
   ]
  },
  {
   "cell_type": "code",
   "execution_count": 30,
   "metadata": {},
   "outputs": [
    {
     "name": "stdout",
     "output_type": "stream",
     "text": [
      "                            participantId  bodyMass_kg  height_m       bmi  \\\n",
      "23   358d6f00-a8ab-458f-a8c1-12048908b966     0.112863  0.644338  0.114375   \n",
      "24   358d6f00-a8ab-458f-a8c1-12048908b966     0.112863  0.644338  0.114375   \n",
      "45   3ec95a6f-9e70-4343-996e-2de5e0d66b15     0.153578  0.672353  0.142935   \n",
      "356  b2a4c45f-86cf-478a-8420-fc1e77905b0c     0.200009  0.625662  0.214970   \n",
      "\n",
      "     mean_hr/s  hr_duration_(s)   max_hr   min_hr  totalSteps  steps_per_hour  \\\n",
      "23    0.318439         0.000949  0.53750  0.24575    0.053752        0.151231   \n",
      "24    0.563466         0.003542  0.72075  0.25000    0.029542        0.121110   \n",
      "45    0.340086         0.000671  0.48325  0.28325    0.030105        0.045081   \n",
      "356   0.398250         0.000359  0.53750  0.27500    0.004080        0.054765   \n",
      "\n",
      "     ...  wake_up_choices  wake_ups  weekly_naps  noise_light  \\\n",
      "23   ...         0.555556  0.000000         0.00          0.0   \n",
      "24   ...         0.555556  0.000000         0.00          0.0   \n",
      "45   ...         0.444444  0.266667         0.25          1.0   \n",
      "356  ...         0.444444  0.000000         0.00          0.0   \n",
      "\n",
      "     stress_thinking  other_person  pain_discomfort  nightmares  \\\n",
      "23               1.0           0.0              0.0         0.0   \n",
      "24               1.0           0.0              0.0         0.0   \n",
      "45               1.0           1.0              1.0         0.0   \n",
      "356              0.0           0.0              1.0         0.0   \n",
      "\n",
      "     bathroom_urges  other_reasons  \n",
      "23              0.0            1.0  \n",
      "24              0.0            1.0  \n",
      "45              1.0            1.0  \n",
      "356             1.0            1.0  \n",
      "\n",
      "[4 rows x 51 columns]\n"
     ]
    }
   ],
   "source": [
    "print(df.head(10))"
   ]
  },
  {
   "cell_type": "code",
   "execution_count": 31,
   "metadata": {},
   "outputs": [],
   "source": [
    "# Save to csv\n",
    "\n",
    "df.to_csv(folder_path + 'minmax_normalised_data.csv', index=False)"
   ]
  }
 ],
 "metadata": {
  "kernelspec": {
   "display_name": "Python 3",
   "language": "python",
   "name": "python3"
  },
  "language_info": {
   "codemirror_mode": {
    "name": "ipython",
    "version": 3
   },
   "file_extension": ".py",
   "mimetype": "text/x-python",
   "name": "python",
   "nbconvert_exporter": "python",
   "pygments_lexer": "ipython3",
   "version": "3.11.5"
  }
 },
 "nbformat": 4,
 "nbformat_minor": 2
}
