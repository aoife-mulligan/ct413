{
 "cells": [
  {
   "cell_type": "markdown",
   "metadata": {},
   "source": [
    "# Data Normalisation\n",
    "\n",
    "Using Z-Normalisation\n",
    "\n"
   ]
  },
  {
   "cell_type": "code",
   "execution_count": 51,
   "metadata": {},
   "outputs": [],
   "source": [
    "import pandas as pd\n",
    "\n",
    "# import data\n",
    "folder_path = 'C:\\\\Users\\\\aoife\\Documents\\\\Project\\\\filtered_data\\\\'\n",
    "\n",
    "#df = pd.read_csv(folder_path + '23_02_activity_and_survey_data.csv', usecols=['participantId', 'bodyMass_kg', 'height_m', 'bmi', 'mean_hr/s', 'hr_duration_(s)', 'max_hr', 'min_hr', 'totalSteps', 'steps_per_hour', 'totalDistance', 'dist_per_hour', 'ssq_score', 'alcohol_consumption', 'basic_expenses', 'caffeine', 'daily_activities', 'daily_smoking', 'education', 'flexible_work_hours', 'gender', 'good_life', 'hispanic','income', 'marital', 'race', 'smoking_status', 'menopause', 'recent_births', 'current_pregnant', 'work_schedule', 'alarm_dependency', 'driving_sleepy', 'falling_asleep', 'morning_person', 'nap_duration', 'sleep_lost', 'sleep_needed', 'sleep_partner', 'sleep_time_workday', 'sleep_time_weekend', 'wake_up_choices', 'wake_ups', 'weekly_naps', 'noise_light', 'stress_thinking', 'other_person', 'pain_discomfort', 'nightmares', 'bathroom_urges', 'other_reasons'])\n",
    "\n",
    "df = pd.read_csv(folder_path + '23_02_concatenated_data.csv', usecols=['participantId', 'bodyMass_kg', 'height_m', 'bmi', 'mean_hr/s', 'hr_duration_(s)', 'max_hr', 'min_hr', 'totalSteps', 'steps_per_hour', 'totalDistance', 'dist_per_hour', 'ssq_score'])\n",
    "\n"
   ]
  },
  {
   "cell_type": "code",
   "execution_count": 52,
   "metadata": {},
   "outputs": [],
   "source": [
    "# define minimum and maximum values for each feature\n",
    "# for versions of dataset where 'unknown', and 'prefer not to say' are removed\n",
    "'''\n",
    "min_max_values = {\n",
    "    'bodyMass_kg': {'min': 0, 'max': 635},\n",
    "    'height_m': {'min': 0, 'max': 2.72},\n",
    "    'bmi': {'min': 0, 'max': 204},\n",
    "    'mean_hr/s': {'min': 0, 'max': 4},\n",
    "    'hr_duration_(s)': {'min': 0, 'max': 86400},\n",
    "    'max_hr': {'min': 0, 'max': 4},\n",
    "    'min_hr': {'min': 0, 'max': 4},\n",
    "    'totalSteps': {'min': 0, 'max': 238000},\n",
    "    'steps_per_hour': {'min': 0, 'max': 31835},\n",
    "    'totalDistance': {'min': 0, 'max': 160000},\n",
    "    'dist_per_hour': {'min': 0, 'max': 21330},\n",
    "    'ssq_score': {'min': 1, 'max': 5},\n",
    "    'alcohol_consumption': {'min': 0, 'max': 5},\n",
    "    'basic_expenses': {'min': 1, 'max': 4},\n",
    "    'caffeine': {'min': 0, 'max': 60},\n",
    "    'daily_activities': {'min': 1, 'max': 9},\n",
    "    'daily_smoking': {'min': 1, 'max': 3},\n",
    "    'education': {'min': 1, 'max': 6},\n",
    "    'flexible_work_hours': {'min': 1, 'max': 2},\n",
    "    'gender': {'min': 1, 'max': 2},\n",
    "    'good_life': {'min': 1, 'max': 2},\n",
    "    'hispanic': {'min': 1, 'max': 6},\n",
    "    'income': {'min': 1, 'max': 7},\n",
    "    'marital': {'min': 1, 'max': 6},\n",
    "    'smoking_status': {'min': 1, 'max': 9},\n",
    "    'menopause': {'min': 1, 'max': 3},\n",
    "    'recent_births': {'min': 1, 'max': 4},\n",
    "    'current_pregnant': {'min': 0, 'max': 2},  \n",
    "    'work_schedule': {'min': 1, 'max': 6},\n",
    "    'alarm_dependency': {'min': 1, 'max': 4},\n",
    "    'driving_sleepy': {'min': 1, 'max': 5},\n",
    "    'falling_asleep': {'min': 1, 'max': 7},\n",
    "    'morning_person': {'min': 1, 'max': 2},\n",
    "    'nap_duration': {'min': 1, 'max': 7},\n",
    "    'sleep_lost': {'min': 0, 'max': 1440},\n",
    "    'sleep_needed': {'min': 0, 'max': 24},\n",
    "    'sleep_partner': {'min': 1, 'max': 6},\n",
    "    'sleep_time_workday': {'min': 0, 'max': 24},\n",
    "    'sleep_time_weekend': {'min': 0, 'max': 24},\n",
    "    'wake_up_choices': {'min': 1, 'max': 10},\n",
    "    'wake_ups': {'min': 0, 'max': 30},\n",
    "    'weekly_naps': {'min': 1, 'max': 5},\n",
    "    'noise_light': {'min': 0, 'max': 1},\n",
    "    'stress_thinking': {'min': 0, 'max': 1},\n",
    "    'other_person': {'min': 0, 'max': 1},\n",
    "    'pain_discomfort': {'min': 0, 'max': 1},\n",
    "    'nightmares': {'min': 0, 'max': 1},\n",
    "    'bathroom_urges': {'min': 0, 'max': 1},\n",
    "    'other_reasons': {'min': 0, 'max': 1}\n",
    "}'''\n",
    "\n",
    "min_max_values = {\n",
    "    'bodyMass_kg': {'min': 0, 'max': 635},\n",
    "    'height_m': {'min': 0, 'max': 2.72},\n",
    "    'bmi': {'min': 0, 'max': 204},\n",
    "    'mean_hr/s': {'min': 0, 'max': 4},\n",
    "    'hr_duration_(s)': {'min': 0, 'max': 86400},\n",
    "    'max_hr': {'min': 0, 'max': 4},\n",
    "    'min_hr': {'min': 0, 'max': 4},\n",
    "    'totalSteps': {'min': 0, 'max': 238000},\n",
    "    'steps_per_hour': {'min': 0, 'max': 31835},\n",
    "    'totalDistance': {'min': 0, 'max': 160000},\n",
    "    'dist_per_hour': {'min': 0, 'max': 21330},\n",
    "    'ssq_score': {'min': 1, 'max': 5}\n",
    "}\n",
    "\n",
    "\n"
   ]
  },
  {
   "cell_type": "code",
   "execution_count": 53,
   "metadata": {},
   "outputs": [],
   "source": [
    "# function for min-max normalisation\n",
    "\n",
    "def min_max_normalisation(series, min_val, max_val):\n",
    "    return (series - min_val) / (max_val - min_val)"
   ]
  },
  {
   "cell_type": "code",
   "execution_count": 54,
   "metadata": {},
   "outputs": [],
   "source": [
    "# Call function on each feature/column\n",
    "\n",
    "for feature in min_max_values:\n",
    "    minimum = min_max_values[feature]['min']\n",
    "    maximum = min_max_values[feature]['max']\n",
    "    df[feature] = min_max_normalisation(df[feature], minimum, maximum)"
   ]
  },
  {
   "cell_type": "code",
   "execution_count": 55,
   "metadata": {},
   "outputs": [
    {
     "name": "stdout",
     "output_type": "stream",
     "text": [
      "                          participantId  bodyMass_kg  height_m       bmi  \\\n",
      "0  00a55fb5-da33-4e2e-ae61-28f589fcc174     0.080718  0.578971  0.101313   \n",
      "1  00fd4039-9b5e-4bbb-8295-4983a3f58371     0.094290  0.606985  0.107675   \n",
      "2  02d5125e-684f-4166-a3b7-5df1bcfc1661     0.094290  0.625662  0.101342   \n",
      "3  041d9018-9fcb-4cdc-9539-9021602ba36c     0.132150  0.653676  0.130121   \n",
      "4  05fbf759-fcc0-4f5c-b871-f6a0d7f677b0     0.182151  0.691029  0.160489   \n",
      "5  078ab4c8-1c69-42cf-9e6d-8c64f5769660     0.142863  0.672353  0.132963   \n",
      "6  080292d4-a0b0-4dd7-a7dd-191c8ac71664     0.121435  0.663015  0.116226   \n",
      "7  080bacc1-4661-4735-acca-7d27ad1a4192     0.142863  0.663015  0.136735   \n",
      "8  0b79acd2-ea0b-406f-aa41-e48b98f19bb4     0.114291  0.616324  0.126591   \n",
      "9  0d882828-6b59-4b93-9a62-e10c2418c4fc     0.125720  0.635000  0.131178   \n",
      "\n",
      "   mean_hr/s  hr_duration_(s)   max_hr   min_hr  totalSteps  steps_per_hour  \\\n",
      "0   0.359606         0.000544  0.44575  0.25425    0.018714        0.079119   \n",
      "1   0.322549         0.000475  0.37925  0.28750    0.000256        0.004787   \n",
      "2   0.276816         0.000741  0.44575  0.15425    0.045336        0.060711   \n",
      "3   0.526849         0.003576  0.62075  0.19175    0.005714        0.074117   \n",
      "4   0.321128         0.000475  0.37075  0.25825    0.031647        0.084616   \n",
      "5   0.274103         0.002662  0.59575  0.23750    0.069147        0.086845   \n",
      "6   0.264010         0.002037  0.49175  0.21250    0.016046        0.054701   \n",
      "7   0.294799         0.000833  0.47075  0.22500    0.053504        0.099917   \n",
      "8   0.300732         0.002373  0.54175  0.19175    0.018113        0.143976   \n",
      "9   0.303308         0.000891  0.52500  0.21675    0.003824        0.050618   \n",
      "\n",
      "   totalDistance  dist_per_hour  ssq_score  \n",
      "0       0.024815       0.078219       0.50  \n",
      "1       0.000289       0.005419       0.75  \n",
      "2       0.006435       0.032346       0.75  \n",
      "3       0.034245       0.198105       1.00  \n",
      "4       0.058964       0.098655       0.00  \n",
      "5       0.095679       0.167536       0.50  \n",
      "6       0.022986       0.071347       0.75  \n",
      "7       0.116078       0.070970       0.50  \n",
      "8       0.016773       0.130421       0.50  \n",
      "9       0.004884       0.031150       0.75  \n"
     ]
    }
   ],
   "source": [
    "print(df.head(10))"
   ]
  },
  {
   "cell_type": "code",
   "execution_count": 56,
   "metadata": {},
   "outputs": [],
   "source": [
    "# Save to csv\n",
    "\n",
    "df.to_csv(folder_path + 'minmax_normalised_data_without_surveys.csv', index=False)"
   ]
  }
 ],
 "metadata": {
  "kernelspec": {
   "display_name": "Python 3",
   "language": "python",
   "name": "python3"
  },
  "language_info": {
   "codemirror_mode": {
    "name": "ipython",
    "version": 3
   },
   "file_extension": ".py",
   "mimetype": "text/x-python",
   "name": "python",
   "nbconvert_exporter": "python",
   "pygments_lexer": "ipython3",
   "version": "3.11.5"
  }
 },
 "nbformat": 4,
 "nbformat_minor": 2
}
