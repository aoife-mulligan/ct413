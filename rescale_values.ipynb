{
 "cells": [
  {
   "cell_type": "code",
   "execution_count": 13,
   "metadata": {},
   "outputs": [
    {
     "name": "stdout",
     "output_type": "stream",
     "text": [
      "The RMSE on the original scale is: 0.12\n"
     ]
    }
   ],
   "source": [
    "def convert_rmse_original_scale(rmse_normalized):\n",
    "    \"\"\"\n",
    "    Convert RMSE calculated on normalized data back to the original scale.\n",
    "\n",
    "    Parameters:\n",
    "    rmse_normalized (float): The RMSE value calculated on normalized data.\n",
    "    min_value (float): The minimum value of the original data before normalization.\n",
    "    max_value (float): The maximum value of the original data before normalization.\n",
    "\n",
    "    Returns:\n",
    "    float: The RMSE value converted back to the original scale.\n",
    "    \"\"\"\n",
    "    rmse_original = rmse_normalized * (5 - 1)\n",
    "    return rmse_original\n",
    "\n",
    "# Example usage for 'ssq_score' (sleep quality score)\n",
    "rmse_normalized = 0.03  # Example RMSE on normalized data\n",
    "min_value = 1  # Min value for 'ssq_score'\n",
    "max_value = 5  # Max value for 'ssq_score'\n",
    "\n",
    "# Convert the RMSE back to the original scale\n",
    "rmse_original = convert_rmse_original_scale(rmse_normalized)\n",
    "print(f\"The RMSE on the original scale is: {rmse_original}\")\n",
    "\n",
    "\n",
    "\n"
   ]
  },
  {
   "cell_type": "code",
   "execution_count": 14,
   "metadata": {},
   "outputs": [
    {
     "data": {
      "text/plain": [
       "1.4388"
      ]
     },
     "execution_count": 14,
     "metadata": {},
     "output_type": "execute_result"
    }
   ],
   "source": [
    "convert_rmse_original_scale(0.3597)"
   ]
  },
  {
   "cell_type": "code",
   "execution_count": 15,
   "metadata": {},
   "outputs": [
    {
     "data": {
      "text/plain": [
       "1.3032"
      ]
     },
     "execution_count": 15,
     "metadata": {},
     "output_type": "execute_result"
    }
   ],
   "source": [
    "convert_rmse_original_scale(0.3258)"
   ]
  },
  {
   "cell_type": "code",
   "execution_count": 16,
   "metadata": {},
   "outputs": [
    {
     "data": {
      "text/plain": [
       "1.2368"
      ]
     },
     "execution_count": 16,
     "metadata": {},
     "output_type": "execute_result"
    }
   ],
   "source": [
    "# 0.3092\n",
    "convert_rmse_original_scale(0.3092)"
   ]
  },
  {
   "cell_type": "code",
   "execution_count": 17,
   "metadata": {},
   "outputs": [
    {
     "data": {
      "text/plain": [
       "0.9616"
      ]
     },
     "execution_count": 17,
     "metadata": {},
     "output_type": "execute_result"
    }
   ],
   "source": [
    "# 0.2404\n",
    "\n",
    "convert_rmse_original_scale(0.2404)"
   ]
  },
  {
   "cell_type": "code",
   "execution_count": 18,
   "metadata": {},
   "outputs": [
    {
     "data": {
      "text/plain": [
       "0.9432"
      ]
     },
     "execution_count": 18,
     "metadata": {},
     "output_type": "execute_result"
    }
   ],
   "source": [
    "# 0. 2358\n",
    "convert_rmse_original_scale(0.2358)"
   ]
  },
  {
   "cell_type": "code",
   "execution_count": 20,
   "metadata": {},
   "outputs": [
    {
     "name": "stdout",
     "output_type": "stream",
     "text": [
      "[-0.6, -0.4, -0.2, 0.0, 0.2, 0.4]\n"
     ]
    }
   ],
   "source": [
    "# Define the min and max values of the original scale\n",
    "min_original = 1\n",
    "max_original = 5\n",
    "\n",
    "# Array of SHAP values on the normalized scale\n",
    "shap_normalized_values = [-0.15, -0.10, -0.05, 0.00, 0.05, 0.10]\n",
    "\n",
    "# Convert the SHAP values to the original scale\n",
    "shap_original_values = [(val * (max_original - min_original)) for val in shap_normalized_values]\n",
    "\n",
    "# print the original SHAP values\n",
    "print(shap_original_values)  # [-0.6, -0.4, -0.2, 0.0, 0.2, 0.4]"
   ]
  },
  {
   "cell_type": "code",
   "execution_count": null,
   "metadata": {},
   "outputs": [],
   "source": []
  }
 ],
 "metadata": {
  "kernelspec": {
   "display_name": "Python 3",
   "language": "python",
   "name": "python3"
  },
  "language_info": {
   "codemirror_mode": {
    "name": "ipython",
    "version": 3
   },
   "file_extension": ".py",
   "mimetype": "text/x-python",
   "name": "python",
   "nbconvert_exporter": "python",
   "pygments_lexer": "ipython3",
   "version": "3.11.5"
  }
 },
 "nbformat": 4,
 "nbformat_minor": 2
}
