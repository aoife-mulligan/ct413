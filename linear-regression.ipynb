{
 "cells": [
  {
   "cell_type": "code",
   "execution_count": 22,
   "metadata": {},
   "outputs": [
    {
     "name": "stdout",
     "output_type": "stream",
     "text": [
      "                          participantId  bodyMass_kg  height_m        bmi  \\\n",
      "0  00a55fb5-da33-4e2e-ae61-28f589fcc174       51.256    1.5748  20.667783   \n",
      "1  00fd4039-9b5e-4bbb-8295-4983a3f58371       59.874    1.6510  21.965653   \n",
      "2  02d5125e-684f-4166-a3b7-5df1bcfc1661       59.874    1.7018  20.673844   \n",
      "3  041d9018-9fcb-4cdc-9539-9021602ba36c       83.915    1.7780  26.544594   \n",
      "4  05fbf759-fcc0-4f5c-b871-f6a0d7f677b0      115.666    1.8796  32.739711   \n",
      "\n",
      "   mean_hr/s  hr_duration_(s)  max_hr  min_hr  totalSteps  stepsTotalDuration  \\\n",
      "0   1.438426             47.0   1.783   1.017      4454.0              6366.0   \n",
      "1   1.290195             41.0   1.517   1.150        61.0              1441.0   \n",
      "2   1.107266             64.0   1.783   0.617     10790.0             20098.0   \n",
      "3   2.107395            309.0   2.483   0.767      1360.0              2075.0   \n",
      "4   1.284512             41.0   1.483   1.033      7532.0             10066.0   \n",
      "\n",
      "   totalDistance  dwrTotalDuration  ssq_score  \n",
      "0       3970.370            8567.0        3.0  \n",
      "1         46.270            1441.0        4.0  \n",
      "2       1029.530            5372.0        4.0  \n",
      "3       5479.177            4668.0        5.0  \n",
      "4       9434.285           16140.0        1.0  \n"
     ]
    }
   ],
   "source": [
    "\n",
    "import pandas as pd\n",
    "\n",
    "# Read in the data\n",
    "folder_path = 'C:\\\\Users\\\\aoife\\Documents\\\\Project\\\\filtered_data\\\\'\n",
    "\n",
    "save_path = 'C:\\\\Users\\\\aoife\\Documents\\\\Project\\\\'\n",
    "\n",
    "# Read in merged file\n",
    "df = pd.read_csv(folder_path + 'concatenated_data.csv', usecols=['participantId', 'bodyMass_kg', 'height_m', 'bmi', 'mean_hr/s', 'hr_duration_(s)', 'max_hr', 'min_hr', 'totalSteps', 'stepsTotalDuration', 'totalDistance', 'dwrTotalDuration', 'ssq_score'])\n",
    "\n",
    "print(df.head(5))"
   ]
  },
  {
   "cell_type": "code",
   "execution_count": 23,
   "metadata": {},
   "outputs": [],
   "source": [
    "# Train test split\n",
    "\n",
    "from sklearn.model_selection import GroupKFold\n",
    "\n",
    "\n",
    "# Split the data ensuring that participants are not split between the train and test set\n",
    "#train, test = train_test_split(df, test_size=0.2, random_state=42, stratify=df['participantId'])\n",
    "\n",
    "gkf = GroupKFold(n_splits=5)\n",
    "for train_index, test_index in gkf.split(df, groups=df['participantId']):\n",
    "    train, test = df.iloc[train_index], df.iloc[test_index]\n",
    "\n",
    "train[['bodyMass_kg', 'height_m', 'bmi', 'mean_hr/s', 'hr_duration_(s)', 'max_hr', 'min_hr', 'totalSteps', 'stepsTotalDuration', 'totalDistance', 'dwrTotalDuration', 'ssq_score']]\n",
    "test[['bodyMass_kg', 'height_m', 'bmi', 'mean_hr/s', 'hr_duration_(s)', 'max_hr', 'min_hr', 'totalSteps', 'stepsTotalDuration', 'totalDistance', 'dwrTotalDuration', 'ssq_score']]\n",
    "                              \n",
    "\n",
    "# Save the train and test data\n",
    "train.to_csv(save_path + 'train.csv', index=False)\n",
    "test.to_csv(save_path + 'test.csv', index=False)"
   ]
  },
  {
   "cell_type": "code",
   "execution_count": 24,
   "metadata": {},
   "outputs": [
    {
     "ename": "ImportError",
     "evalue": "cannot import name 'LinearRegression' from 'sklearn.ensemble' (c:\\Users\\aoife\\AppData\\Local\\Programs\\Python\\Python311\\Lib\\site-packages\\sklearn\\ensemble\\__init__.py)",
     "output_type": "error",
     "traceback": [
      "\u001b[1;31m---------------------------------------------------------------------------\u001b[0m",
      "\u001b[1;31mImportError\u001b[0m                               Traceback (most recent call last)",
      "Cell \u001b[1;32mIn[24], line 3\u001b[0m\n\u001b[0;32m      1\u001b[0m \u001b[38;5;66;03m# Train initial model\u001b[39;00m\n\u001b[0;32m      2\u001b[0m \u001b[38;5;66;03m# Import the model\u001b[39;00m\n\u001b[1;32m----> 3\u001b[0m \u001b[38;5;28;01mfrom\u001b[39;00m \u001b[38;5;21;01msklearn\u001b[39;00m\u001b[38;5;21;01m.\u001b[39;00m\u001b[38;5;21;01mensemble\u001b[39;00m \u001b[38;5;28;01mimport\u001b[39;00m LinearRegression\n\u001b[0;32m      5\u001b[0m \u001b[38;5;66;03m# Instantiate the model\u001b[39;00m\n\u001b[0;32m      6\u001b[0m model \u001b[38;5;241m=\u001b[39m LinearRegression()\n",
      "\u001b[1;31mImportError\u001b[0m: cannot import name 'LinearRegression' from 'sklearn.ensemble' (c:\\Users\\aoife\\AppData\\Local\\Programs\\Python\\Python311\\Lib\\site-packages\\sklearn\\ensemble\\__init__.py)"
     ]
    }
   ],
   "source": [
    "# Train initial model\n",
    "# Import the model\n",
    "from sklearn.ensemble import LinearRegression\n",
    "\n",
    "# Instantiate the model\n",
    "model = LinearRegression()\n",
    "\n",
    "# Define the features and target\n",
    "features = ['bodyMass_kg', 'height_m', 'bmi', 'mean_hr/s', 'hr_duration(s)', 'max_hr', 'min_hr', 'totalSteps', 'stepsTotalDuration', 'totalDistance', 'dwrTotalDuration']\n",
    "target = 'ssq_score'\n",
    "\n",
    "# Fit the model\n",
    "model.fit(train[features], train[target])\n",
    "\n",
    "# Make predictions\n",
    "train['prediction'] = model.predict(train[features])\n",
    "test['prediction'] = model.predict(test[features])\n",
    "\n"
   ]
  }
 ],
 "metadata": {
  "kernelspec": {
   "display_name": "Python 3",
   "language": "python",
   "name": "python3"
  },
  "language_info": {
   "codemirror_mode": {
    "name": "ipython",
    "version": 3
   },
   "file_extension": ".py",
   "mimetype": "text/x-python",
   "name": "python",
   "nbconvert_exporter": "python",
   "pygments_lexer": "ipython3",
   "version": "3.11.5"
  }
 },
 "nbformat": 4,
 "nbformat_minor": 2
}
