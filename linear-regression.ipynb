{
 "cells": [
  {
   "cell_type": "code",
   "execution_count": 22,
   "metadata": {},
   "outputs": [
    {
     "name": "stdout",
     "output_type": "stream",
     "text": [
      "                          participantId  bodyMass_kg  height_m        bmi  \\\n",
      "0  00a55fb5-da33-4e2e-ae61-28f589fcc174       51.256    1.5748  20.667783   \n",
      "1  00fd4039-9b5e-4bbb-8295-4983a3f58371       59.874    1.6510  21.965653   \n",
      "2  02d5125e-684f-4166-a3b7-5df1bcfc1661       59.874    1.7018  20.673844   \n",
      "3  041d9018-9fcb-4cdc-9539-9021602ba36c       83.915    1.7780  26.544594   \n",
      "4  05fbf759-fcc0-4f5c-b871-f6a0d7f677b0      115.666    1.8796  32.739711   \n",
      "\n",
      "   mean_hr/s  hr_duration_(s)  max_hr  min_hr  totalSteps  stepsTotalDuration  \\\n",
      "0   1.438426             47.0   1.783   1.017      4454.0              6366.0   \n",
      "1   1.290195             41.0   1.517   1.150        61.0              1441.0   \n",
      "2   1.107266             64.0   1.783   0.617     10790.0             20098.0   \n",
      "3   2.107395            309.0   2.483   0.767      1360.0              2075.0   \n",
      "4   1.284512             41.0   1.483   1.033      7532.0             10066.0   \n",
      "\n",
      "   totalDistance  dwrTotalDuration  ssq_score  \n",
      "0       3970.370            8567.0        3.0  \n",
      "1         46.270            1441.0        4.0  \n",
      "2       1029.530            5372.0        4.0  \n",
      "3       5479.177            4668.0        5.0  \n",
      "4       9434.285           16140.0        1.0  \n"
     ]
    }
   ],
   "source": [
    "\n",
    "import pandas as pd\n",
    "\n",
    "# Read in the data\n",
    "folder_path = 'C:\\\\Users\\\\aoife\\Documents\\\\Project\\\\filtered_data\\\\'\n",
    "\n",
    "save_path = 'C:\\\\Users\\\\aoife\\Documents\\\\Project\\\\'\n",
    "\n",
    "# Read in merged file\n",
    "df = pd.read_csv(folder_path + 'concatenated_data.csv', usecols=['participantId', 'bodyMass_kg', 'height_m', 'bmi', 'mean_hr/s', 'hr_duration_(s)', 'max_hr', 'min_hr', 'totalSteps', 'stepsTotalDuration', 'totalDistance', 'dwrTotalDuration', 'ssq_score'])\n",
    "\n",
    "print(df.head(5))"
   ]
  },
  {
   "cell_type": "code",
   "execution_count": 23,
   "metadata": {},
   "outputs": [],
   "source": [
    "# Train test split\n",
    "\n",
    "from sklearn.model_selection import GroupKFold\n",
    "\n",
    "\n",
    "# Split the data ensuring that participants are not split between the train and test set\n",
    "#train, test = train_test_split(df, test_size=0.2, random_state=42, stratify=df['participantId'])\n",
    "\n",
    "gkf = GroupKFold(n_splits=5)\n",
    "for train_index, test_index in gkf.split(df, groups=df['participantId']):\n",
    "    train, test = df.iloc[train_index], df.iloc[test_index]\n",
    "\n",
    "train[['bodyMass_kg', 'height_m', 'bmi', 'mean_hr/s', 'hr_duration_(s)', 'max_hr', 'min_hr', 'totalSteps', 'stepsTotalDuration', 'totalDistance', 'dwrTotalDuration', 'ssq_score']]\n",
    "test[['bodyMass_kg', 'height_m', 'bmi', 'mean_hr/s', 'hr_duration_(s)', 'max_hr', 'min_hr', 'totalSteps', 'stepsTotalDuration', 'totalDistance', 'dwrTotalDuration', 'ssq_score']]\n",
    "                              \n",
    "\n",
    "# Save the train and test data\n",
    "train.to_csv(save_path + 'train.csv', index=False)\n",
    "test.to_csv(save_path + 'test.csv', index=False)"
   ]
  },
  {
   "cell_type": "code",
   "execution_count": 26,
   "metadata": {},
   "outputs": [
    {
     "name": "stderr",
     "output_type": "stream",
     "text": [
      "C:\\Users\\aoife\\AppData\\Local\\Temp\\ipykernel_21984\\505363315.py:16: SettingWithCopyWarning: \n",
      "A value is trying to be set on a copy of a slice from a DataFrame.\n",
      "Try using .loc[row_indexer,col_indexer] = value instead\n",
      "\n",
      "See the caveats in the documentation: https://pandas.pydata.org/pandas-docs/stable/user_guide/indexing.html#returning-a-view-versus-a-copy\n",
      "  train['prediction'] = model.predict(train[features])\n",
      "C:\\Users\\aoife\\AppData\\Local\\Temp\\ipykernel_21984\\505363315.py:17: SettingWithCopyWarning: \n",
      "A value is trying to be set on a copy of a slice from a DataFrame.\n",
      "Try using .loc[row_indexer,col_indexer] = value instead\n",
      "\n",
      "See the caveats in the documentation: https://pandas.pydata.org/pandas-docs/stable/user_guide/indexing.html#returning-a-view-versus-a-copy\n",
      "  test['prediction'] = model.predict(test[features])\n"
     ]
    }
   ],
   "source": [
    "# Train initial model\n",
    "# Import the model\n",
    "from sklearn.linear_model import LinearRegression\n",
    "\n",
    "# Instantiate the model\n",
    "model = LinearRegression()\n",
    "\n",
    "# Define the features and target\n",
    "features = ['bodyMass_kg', 'height_m', 'bmi', 'mean_hr/s', 'hr_duration_(s)', 'max_hr', 'min_hr', 'totalSteps', 'stepsTotalDuration', 'totalDistance', 'dwrTotalDuration']\n",
    "target = 'ssq_score'\n",
    "\n",
    "# Fit the model\n",
    "model.fit(train[features], train[target])\n",
    "\n",
    "# Make predictions\n",
    "train['prediction'] = model.predict(train[features])\n",
    "test['prediction'] = model.predict(test[features])\n",
    "\n"
   ]
  },
  {
   "cell_type": "code",
   "execution_count": 27,
   "metadata": {},
   "outputs": [
    {
     "name": "stdout",
     "output_type": "stream",
     "text": [
      "Train Mean Squared Error: 1.3975990634308595\n",
      "Test Mean Squared Error: 0.8416883851341507\n"
     ]
    }
   ],
   "source": [
    "# Evaluate the model\n",
    "\n",
    "from sklearn.metrics import mean_squared_error\n",
    "\n",
    "# Calculate the mean squared error\n",
    "train_mse = mean_squared_error(train['ssq_score'], train['prediction'])\n",
    "test_mse = mean_squared_error(test['ssq_score'], test['prediction'])\n",
    "\n",
    "print('Train Mean Squared Error:', train_mse)\n",
    "print('Test Mean Squared Error:', test_mse)\n",
    "\n",
    "# Calculate the absolute errors\n",
    "\n",
    "\n"
   ]
  },
  {
   "cell_type": "code",
   "execution_count": 28,
   "metadata": {},
   "outputs": [
    {
     "data": {
      "image/png": "[encoded data removed]",
      "text/plain": [
       "<Figure size 640x480 with 1 Axes>"
      ]
     },
     "metadata": {},
     "output_type": "display_data"
    }
   ],
   "source": [
    "# plot the results\n",
    "\n",
    "import matplotlib.pyplot as plt\n",
    "\n",
    "# Plot the actual vs predicted values\n",
    "plt.scatter(train['ssq_score'], train['prediction'], label='Train')\n",
    "plt.scatter(test['ssq_score'], test['prediction'], label='Test')\n",
    "plt.xlabel('Actual')\n",
    "plt.ylabel('Predicted')\n",
    "plt.legend()\n",
    "plt.show()\n",
    "\n",
    "\n"
   ]
  }
 ],
 "metadata": {
  "kernelspec": {
   "display_name": "Python 3",
   "language": "python",
   "name": "python3"
  },
  "language_info": {
   "codemirror_mode": {
    "name": "ipython",
    "version": 3
   },
   "file_extension": ".py",
   "mimetype": "text/x-python",
   "name": "python",
   "nbconvert_exporter": "python",
   "pygments_lexer": "ipython3",
   "version": "3.11.5"
  }
 },
 "nbformat": 4,
 "nbformat_minor": 2
}
