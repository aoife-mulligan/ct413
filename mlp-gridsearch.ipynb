{
 "cells": [
  {
   "cell_type": "code",
   "execution_count": 20,
   "metadata": {},
   "outputs": [
    {
     "name": "stdout",
     "output_type": "stream",
     "text": [
      "                          participantId  bodyMass_kg  height_m       bmi  \\\n",
      "0  00a55fb5-da33-4e2e-ae61-28f589fcc174     0.080718  0.578971  0.101313   \n",
      "1  00fd4039-9b5e-4bbb-8295-4983a3f58371     0.094290  0.606985  0.107675   \n",
      "2  02d5125e-684f-4166-a3b7-5df1bcfc1661     0.094290  0.625662  0.101342   \n",
      "3  041d9018-9fcb-4cdc-9539-9021602ba36c     0.132150  0.653676  0.130121   \n",
      "4  05fbf759-fcc0-4f5c-b871-f6a0d7f677b0     0.182151  0.691029  0.160489   \n",
      "\n",
      "   mean_hr/s  hr_duration_(s)   max_hr   min_hr  totalSteps  steps_per_hour  \\\n",
      "0   0.359606         0.000544  0.44575  0.25425    0.018714        0.079119   \n",
      "1   0.322549         0.000475  0.37925  0.28750    0.000256        0.004787   \n",
      "2   0.276816         0.000741  0.44575  0.15425    0.045336        0.060711   \n",
      "3   0.526849         0.003576  0.62075  0.19175    0.005714        0.074117   \n",
      "4   0.321128         0.000475  0.37075  0.25825    0.031647        0.084616   \n",
      "\n",
      "   totalDistance  dist_per_hour  ssq_score  \n",
      "0       0.024815       0.078219       0.50  \n",
      "1       0.000289       0.005419       0.75  \n",
      "2       0.006435       0.032346       0.75  \n",
      "3       0.034245       0.198105       1.00  \n",
      "4       0.058964       0.098655       0.00  \n"
     ]
    }
   ],
   "source": [
    "import pandas as pd\n",
    "\n",
    "# Read in the data\n",
    "folder_path = 'C:\\\\Users\\\\aoife\\Documents\\\\Project\\\\filtered_data\\\\'\n",
    "\n",
    "save_path = 'C:\\\\Users\\\\aoife\\Documents\\\\Project\\\\'\n",
    "\n",
    "# Read in normalisaed data\n",
    "\n",
    "df = pd.read_csv(folder_path + 'minmax_normalised_data_without_surveys.csv')\n",
    "\n",
    "\n",
    "print(df.head(5))"
   ]
  },
  {
   "cell_type": "code",
   "execution_count": 21,
   "metadata": {},
   "outputs": [],
   "source": [
    "import numpy as np\n",
    "from sklearn.model_selection import GridSearchCV, GroupKFold\n",
    "from sklearn.neural_network import MLPRegressor\n",
    "from sklearn.metrics import mean_squared_error, make_scorer\n"
   ]
  },
  {
   "cell_type": "code",
   "execution_count": 22,
   "metadata": {},
   "outputs": [],
   "source": [
    "# X - features\n",
    "\n",
    "# X = df[['bodyMass_kg','height_m','bmi','mean_hr/s','hr_duration_(s)','max_hr','min_hr','totalSteps','steps_per_hour','totalDistance','dist_per_hour', 'alcohol_consumption', 'basic_expenses', 'caffeine', 'daily_activities', 'daily_smoking', 'education', 'flexible_work_hours', 'gender', 'good_life', 'hispanic','income', 'marital', 'race', 'smoking_status', 'menopause', 'recent_births', 'current_pregnant', 'work_schedule', 'alarm_dependency', 'driving_sleepy', 'falling_asleep', 'morning_person', 'nap_duration', 'sleep_lost', 'sleep_needed', 'sleep_partner', 'sleep_time_workday', 'sleep_time_weekend', 'wake_up_choices', 'wake_ups', 'weekly_naps', 'noise_light', 'stress_thinking', 'other_person', 'pain_discomfort', 'nightmares', 'bathroom_urges', 'other_reasons']].values\n",
    "\n",
    "X = df[['bodyMass_kg','height_m','bmi','mean_hr/s','hr_duration_(s)','max_hr','min_hr','totalSteps','steps_per_hour','totalDistance','dist_per_hour']].values\n",
    "\n",
    "\n",
    "# y - target\n",
    "y = df['ssq_score'].values\n",
    "\n",
    "groups = df['participantId'].values"
   ]
  },
  {
   "cell_type": "code",
   "execution_count": 23,
   "metadata": {},
   "outputs": [],
   "source": [
    "# RMSE Scorer\n",
    "def rmse_score(y_true, y_pred):\n",
    "    return np.sqrt(mean_squared_error(y_true, y_pred))\n",
    "\n",
    "rmse_scorer = make_scorer(rmse_score, greater_is_better=False)\n"
   ]
  },
  {
   "cell_type": "code",
   "execution_count": 24,
   "metadata": {},
   "outputs": [],
   "source": [
    "gkf = GroupKFold(n_splits=10)\n"
   ]
  },
  {
   "cell_type": "code",
   "execution_count": 25,
   "metadata": {},
   "outputs": [
    {
     "data": {
      "text/plain": [
       "\"param_grid = {\\n    'hidden_layer_sizes': [(50,), (50,70), (100,)],\\n    'activation': ['relu'],\\n    'solver': ['sgd', 'adam'],\\n    'learning_rate_init': [0.0001, 0.01, 0.05],\\n    'batch_size': [50, 100],\\n    'learning_rate': ['invscaling', 'adaptive'],\\n    'max_iter': [500, 1000, 1500]\\n}\""
      ]
     },
     "execution_count": 25,
     "metadata": {},
     "output_type": "execute_result"
    }
   ],
   "source": [
    "param_grid = {\n",
    "    'activation': ['relu'],\n",
    "    'batch_size': [100],\n",
    "    'hidden_layer_sizes': [(50, 70)],\n",
    "    'learning_rate': ['adaptive'],\n",
    "    'learning_rate_init': [0.05],\n",
    "    'max_iter': [500],\n",
    "    'solver': ['sgd']\n",
    "}\n",
    "\n",
    "'''param_grid = {\n",
    "    'hidden_layer_sizes': [(50,), (50,70), (100,)],\n",
    "    'activation': ['relu'],\n",
    "    'solver': ['sgd', 'adam'],\n",
    "    'learning_rate_init': [0.0001, 0.01, 0.05],\n",
    "    'batch_size': [50, 100],\n",
    "    'learning_rate': ['invscaling', 'adaptive'],\n",
    "    'max_iter': [500, 1000, 1500]\n",
    "}'''\n",
    "\n",
    "# 'tol': [1e-4, 1e-6]\n",
    "# 'alpha': [0.00001, 0.0001, 0.001, 0.01, 0.1],"
   ]
  },
  {
   "cell_type": "code",
   "execution_count": 26,
   "metadata": {},
   "outputs": [
    {
     "name": "stdout",
     "output_type": "stream",
     "text": [
      "Fitting 10 folds for each of 1 candidates, totalling 10 fits\n"
     ]
    },
    {
     "name": "stdout",
     "output_type": "stream",
     "text": [
      "[CV] END activation=relu, batch_size=100, hidden_layer_sizes=(50, 70), learning_rate=adaptive, learning_rate_init=0.05, max_iter=500, solver=sgd; total time=   1.4s\n",
      "[CV] END activation=relu, batch_size=100, hidden_layer_sizes=(50, 70), learning_rate=adaptive, learning_rate_init=0.05, max_iter=500, solver=sgd; total time=   1.5s\n",
      "[CV] END activation=relu, batch_size=100, hidden_layer_sizes=(50, 70), learning_rate=adaptive, learning_rate_init=0.05, max_iter=500, solver=sgd; total time=   1.4s\n",
      "[CV] END activation=relu, batch_size=100, hidden_layer_sizes=(50, 70), learning_rate=adaptive, learning_rate_init=0.05, max_iter=500, solver=sgd; total time=   2.7s\n",
      "[CV] END activation=relu, batch_size=100, hidden_layer_sizes=(50, 70), learning_rate=adaptive, learning_rate_init=0.05, max_iter=500, solver=sgd; total time=   2.8s\n",
      "[CV] END activation=relu, batch_size=100, hidden_layer_sizes=(50, 70), learning_rate=adaptive, learning_rate_init=0.05, max_iter=500, solver=sgd; total time=   2.1s\n",
      "[CV] END activation=relu, batch_size=100, hidden_layer_sizes=(50, 70), learning_rate=adaptive, learning_rate_init=0.05, max_iter=500, solver=sgd; total time=   3.4s\n",
      "[CV] END activation=relu, batch_size=100, hidden_layer_sizes=(50, 70), learning_rate=adaptive, learning_rate_init=0.05, max_iter=500, solver=sgd; total time=   2.6s\n",
      "[CV] END activation=relu, batch_size=100, hidden_layer_sizes=(50, 70), learning_rate=adaptive, learning_rate_init=0.05, max_iter=500, solver=sgd; total time=   1.0s\n",
      "[CV] END activation=relu, batch_size=100, hidden_layer_sizes=(50, 70), learning_rate=adaptive, learning_rate_init=0.05, max_iter=500, solver=sgd; total time=   1.9s\n"
     ]
    },
    {
     "data": {
      "text/html": [
       "<style>#sk-container-id-2 {color: black;}#sk-container-id-2 pre{padding: 0;}#sk-container-id-2 div.sk-toggleable {background-color: white;}#sk-container-id-2 label.sk-toggleable__label {cursor: pointer;display: block;width: 100%;margin-bottom: 0;padding: 0.3em;box-sizing: border-box;text-align: center;}#sk-container-id-2 label.sk-toggleable__label-arrow:before {content: \"▸\";float: left;margin-right: 0.25em;color: #696969;}#sk-container-id-2 label.sk-toggleable__label-arrow:hover:before {color: black;}#sk-container-id-2 div.sk-estimator:hover label.sk-toggleable__label-arrow:before {color: black;}#sk-container-id-2 div.sk-toggleable__content {max-height: 0;max-width: 0;overflow: hidden;text-align: left;background-color: #f0f8ff;}#sk-container-id-2 div.sk-toggleable__content pre {margin: 0.2em;color: black;border-radius: 0.25em;background-color: #f0f8ff;}#sk-container-id-2 input.sk-toggleable__control:checked~div.sk-toggleable__content {max-height: 200px;max-width: 100%;overflow: auto;}#sk-container-id-2 input.sk-toggleable__control:checked~label.sk-toggleable__label-arrow:before {content: \"▾\";}#sk-container-id-2 div.sk-estimator input.sk-toggleable__control:checked~label.sk-toggleable__label {background-color: #d4ebff;}#sk-container-id-2 div.sk-label input.sk-toggleable__control:checked~label.sk-toggleable__label {background-color: #d4ebff;}#sk-container-id-2 input.sk-hidden--visually {border: 0;clip: rect(1px 1px 1px 1px);clip: rect(1px, 1px, 1px, 1px);height: 1px;margin: -1px;overflow: hidden;padding: 0;position: absolute;width: 1px;}#sk-container-id-2 div.sk-estimator {font-family: monospace;background-color: #f0f8ff;border: 1px dotted black;border-radius: 0.25em;box-sizing: border-box;margin-bottom: 0.5em;}#sk-container-id-2 div.sk-estimator:hover {background-color: #d4ebff;}#sk-container-id-2 div.sk-parallel-item::after {content: \"\";width: 100%;border-bottom: 1px solid gray;flex-grow: 1;}#sk-container-id-2 div.sk-label:hover label.sk-toggleable__label {background-color: #d4ebff;}#sk-container-id-2 div.sk-serial::before {content: \"\";position: absolute;border-left: 1px solid gray;box-sizing: border-box;top: 0;bottom: 0;left: 50%;z-index: 0;}#sk-container-id-2 div.sk-serial {display: flex;flex-direction: column;align-items: center;background-color: white;padding-right: 0.2em;padding-left: 0.2em;position: relative;}#sk-container-id-2 div.sk-item {position: relative;z-index: 1;}#sk-container-id-2 div.sk-parallel {display: flex;align-items: stretch;justify-content: center;background-color: white;position: relative;}#sk-container-id-2 div.sk-item::before, #sk-container-id-2 div.sk-parallel-item::before {content: \"\";position: absolute;border-left: 1px solid gray;box-sizing: border-box;top: 0;bottom: 0;left: 50%;z-index: -1;}#sk-container-id-2 div.sk-parallel-item {display: flex;flex-direction: column;z-index: 1;position: relative;background-color: white;}#sk-container-id-2 div.sk-parallel-item:first-child::after {align-self: flex-end;width: 50%;}#sk-container-id-2 div.sk-parallel-item:last-child::after {align-self: flex-start;width: 50%;}#sk-container-id-2 div.sk-parallel-item:only-child::after {width: 0;}#sk-container-id-2 div.sk-dashed-wrapped {border: 1px dashed gray;margin: 0 0.4em 0.5em 0.4em;box-sizing: border-box;padding-bottom: 0.4em;background-color: white;}#sk-container-id-2 div.sk-label label {font-family: monospace;font-weight: bold;display: inline-block;line-height: 1.2em;}#sk-container-id-2 div.sk-label-container {text-align: center;}#sk-container-id-2 div.sk-container {/* jupyter's `normalize.less` sets `[hidden] { display: none; }` but bootstrap.min.css set `[hidden] { display: none !important; }` so we also need the `!important` here to be able to override the default hidden behavior on the sphinx rendered scikit-learn.org. See: https://github.com/scikit-learn/scikit-learn/issues/21755 */display: inline-block !important;position: relative;}#sk-container-id-2 div.sk-text-repr-fallback {display: none;}</style><div id=\"sk-container-id-2\" class=\"sk-top-container\"><div class=\"sk-text-repr-fallback\"><pre>GridSearchCV(cv=GroupKFold(n_splits=10),\n",
       "             estimator=MLPRegressor(max_iter=1000, random_state=42),\n",
       "             param_grid={&#x27;activation&#x27;: [&#x27;relu&#x27;], &#x27;batch_size&#x27;: [100],\n",
       "                         &#x27;hidden_layer_sizes&#x27;: [(50, 70)],\n",
       "                         &#x27;learning_rate&#x27;: [&#x27;adaptive&#x27;],\n",
       "                         &#x27;learning_rate_init&#x27;: [0.05], &#x27;max_iter&#x27;: [500],\n",
       "                         &#x27;solver&#x27;: [&#x27;sgd&#x27;]},\n",
       "             scoring=make_scorer(rmse_score, greater_is_better=False),\n",
       "             verbose=2)</pre><b>In a Jupyter environment, please rerun this cell to show the HTML representation or trust the notebook. <br />On GitHub, the HTML representation is unable to render, please try loading this page with nbviewer.org.</b></div><div class=\"sk-container\" hidden><div class=\"sk-item sk-dashed-wrapped\"><div class=\"sk-label-container\"><div class=\"sk-label sk-toggleable\"><input class=\"sk-toggleable__control sk-hidden--visually\" id=\"sk-estimator-id-4\" type=\"checkbox\" ><label for=\"sk-estimator-id-4\" class=\"sk-toggleable__label sk-toggleable__label-arrow\">GridSearchCV</label><div class=\"sk-toggleable__content\"><pre>GridSearchCV(cv=GroupKFold(n_splits=10),\n",
       "             estimator=MLPRegressor(max_iter=1000, random_state=42),\n",
       "             param_grid={&#x27;activation&#x27;: [&#x27;relu&#x27;], &#x27;batch_size&#x27;: [100],\n",
       "                         &#x27;hidden_layer_sizes&#x27;: [(50, 70)],\n",
       "                         &#x27;learning_rate&#x27;: [&#x27;adaptive&#x27;],\n",
       "                         &#x27;learning_rate_init&#x27;: [0.05], &#x27;max_iter&#x27;: [500],\n",
       "                         &#x27;solver&#x27;: [&#x27;sgd&#x27;]},\n",
       "             scoring=make_scorer(rmse_score, greater_is_better=False),\n",
       "             verbose=2)</pre></div></div></div><div class=\"sk-parallel\"><div class=\"sk-parallel-item\"><div class=\"sk-item\"><div class=\"sk-label-container\"><div class=\"sk-label sk-toggleable\"><input class=\"sk-toggleable__control sk-hidden--visually\" id=\"sk-estimator-id-5\" type=\"checkbox\" ><label for=\"sk-estimator-id-5\" class=\"sk-toggleable__label sk-toggleable__label-arrow\">estimator: MLPRegressor</label><div class=\"sk-toggleable__content\"><pre>MLPRegressor(max_iter=1000, random_state=42)</pre></div></div></div><div class=\"sk-serial\"><div class=\"sk-item\"><div class=\"sk-estimator sk-toggleable\"><input class=\"sk-toggleable__control sk-hidden--visually\" id=\"sk-estimator-id-6\" type=\"checkbox\" ><label for=\"sk-estimator-id-6\" class=\"sk-toggleable__label sk-toggleable__label-arrow\">MLPRegressor</label><div class=\"sk-toggleable__content\"><pre>MLPRegressor(max_iter=1000, random_state=42)</pre></div></div></div></div></div></div></div></div></div></div>"
      ],
      "text/plain": [
       "GridSearchCV(cv=GroupKFold(n_splits=10),\n",
       "             estimator=MLPRegressor(max_iter=1000, random_state=42),\n",
       "             param_grid={'activation': ['relu'], 'batch_size': [100],\n",
       "                         'hidden_layer_sizes': [(50, 70)],\n",
       "                         'learning_rate': ['adaptive'],\n",
       "                         'learning_rate_init': [0.05], 'max_iter': [500],\n",
       "                         'solver': ['sgd']},\n",
       "             scoring=make_scorer(rmse_score, greater_is_better=False),\n",
       "             verbose=2)"
      ]
     },
     "execution_count": 26,
     "metadata": {},
     "output_type": "execute_result"
    }
   ],
   "source": [
    "mlp_gs = GridSearchCV(MLPRegressor(max_iter=1000, random_state=42), param_grid, scoring=rmse_scorer, cv=gkf, verbose=2)\n",
    "\n",
    "# Fit GridSearchCV\n",
    "mlp_gs.fit(X, y, groups=groups) \n"
   ]
  },
  {
   "cell_type": "code",
   "execution_count": 27,
   "metadata": {},
   "outputs": [
    {
     "name": "stdout",
     "output_type": "stream",
     "text": [
      "Best Parameters: {'activation': 'relu', 'batch_size': 100, 'hidden_layer_sizes': (50, 70), 'learning_rate': 'adaptive', 'learning_rate_init': 0.05, 'max_iter': 500, 'solver': 'sgd'}\n",
      "Best RMSE Score: 0.3231646071633662\n"
     ]
    }
   ],
   "source": [
    "# Best hyperparameters\n",
    "print(\"Best Parameters:\", mlp_gs.best_params_)\n",
    "\n",
    "# Best RMSE score\n",
    "print(\"Best RMSE Score:\", -mlp_gs.best_score_)\n",
    "\n",
    "# Best model\n",
    "best_model = mlp_gs.best_estimator_\n"
   ]
  }
 ],
 "metadata": {
  "kernelspec": {
   "display_name": "Python 3",
   "language": "python",
   "name": "python3"
  },
  "language_info": {
   "codemirror_mode": {
    "name": "ipython",
    "version": 3
   },
   "file_extension": ".py",
   "mimetype": "text/x-python",
   "name": "python",
   "nbconvert_exporter": "python",
   "pygments_lexer": "ipython3",
   "version": "3.11.5"
  }
 },
 "nbformat": 4,
 "nbformat_minor": 2
}
