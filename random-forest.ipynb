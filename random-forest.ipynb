{
 "cells": [
  {
   "cell_type": "markdown",
   "metadata": {},
   "source": [
    "# Random Forest Model"
   ]
  },
  {
   "cell_type": "code",
   "execution_count": 70,
   "metadata": {},
   "outputs": [
    {
     "name": "stdout",
     "output_type": "stream",
     "text": [
      "                          participantId  bodyMass_kg  height_m        bmi  \\\n",
      "0  00a55fb5-da33-4e2e-ae61-28f589fcc174       51.256    1.5748  20.667783   \n",
      "1  00fd4039-9b5e-4bbb-8295-4983a3f58371       59.874    1.6510  21.965653   \n",
      "2  02d5125e-684f-4166-a3b7-5df1bcfc1661       59.874    1.7018  20.673844   \n",
      "3  041d9018-9fcb-4cdc-9539-9021602ba36c       83.915    1.7780  26.544594   \n",
      "4  05fbf759-fcc0-4f5c-b871-f6a0d7f677b0      115.666    1.8796  32.739711   \n",
      "\n",
      "   mean_hr/s  hr_duration_(s)  max_hr  min_hr  totalSteps  stepsTotalDuration  \\\n",
      "0   1.438426             47.0   1.783   1.017      4454.0              6366.0   \n",
      "1   1.290195             41.0   1.517   1.150        61.0              1441.0   \n",
      "2   1.107266             64.0   1.783   0.617     10790.0             20098.0   \n",
      "3   2.107395            309.0   2.483   0.767      1360.0              2075.0   \n",
      "4   1.284512             41.0   1.483   1.033      7532.0             10066.0   \n",
      "\n",
      "   totalDistance  dwrTotalDuration  ssq_score  \n",
      "0       3970.370            8567.0        3.0  \n",
      "1         46.270            1441.0        4.0  \n",
      "2       1029.530            5372.0        4.0  \n",
      "3       5479.177            4668.0        5.0  \n",
      "4       9434.285           16140.0        1.0  \n",
      "(1041, 13)\n"
     ]
    }
   ],
   "source": [
    "\n",
    "import pandas as pd\n",
    "\n",
    "# Read in the data\n",
    "folder_path = 'C:\\\\Users\\\\aoife\\Documents\\\\Project\\\\filtered_data\\\\'\n",
    "\n",
    "save_path = 'C:\\\\Users\\\\aoife\\Documents\\\\Project\\\\'\n",
    "\n",
    "# Read in merged file\n",
    "df = pd.read_csv(folder_path + 'concatenated_data.csv', usecols=['participantId', 'bodyMass_kg', 'height_m', 'bmi', 'mean_hr/s', 'hr_duration_(s)', 'max_hr', 'min_hr', 'totalSteps', 'stepsTotalDuration', 'totalDistance', 'dwrTotalDuration', 'ssq_score'])\n",
    "\n",
    "print(df.head())\n",
    "print(df.shape)"
   ]
  },
  {
   "cell_type": "code",
   "execution_count": 71,
   "metadata": {},
   "outputs": [],
   "source": [
    "# Train test split\n",
    "\n",
    "from sklearn.model_selection import GroupKFold\n",
    "\n",
    "gkf = GroupKFold(n_splits=5)\n"
   ]
  },
  {
   "cell_type": "code",
   "execution_count": 72,
   "metadata": {},
   "outputs": [],
   "source": [
    "# X - features\n",
    "\n",
    "X = df[['bodyMass_kg','height_m','bmi','mean_hr/s','hr_duration_(s)','max_hr','min_hr','totalSteps','stepsTotalDuration','totalDistance','dwrTotalDuration']].values\n",
    "\n",
    "# y - target\n",
    "y = df['ssq_score'].values\n",
    "\n",
    "groups = df['participantId'].values"
   ]
  },
  {
   "cell_type": "code",
   "execution_count": 73,
   "metadata": {},
   "outputs": [],
   "source": [
    "from sklearn.ensemble import RandomForestRegressor\n",
    "from sklearn.metrics import mean_squared_error\n",
    "\n",
    "# Define the Random Forest Regressor model\n",
    "rf = RandomForestRegressor(n_estimators=1000, , random_state=42)\n",
    "\n",
    "# Lists to store evaluation metrics\n",
    "train_scores = []\n",
    "test_scores = []\n",
    "train_predicted_vals = []\n",
    "train_actual_vals = []\n",
    "test_predicted_vals = []\n",
    "test_actual_vals = []"
   ]
  },
  {
   "cell_type": "code",
   "execution_count": 74,
   "metadata": {},
   "outputs": [
    {
     "name": "stdout",
     "output_type": "stream",
     "text": [
      "Average Train RMSE: 0.31891879541803864\n",
      "Average Test RMSE:  1.2436046634089464\n"
     ]
    }
   ],
   "source": [
    "\n",
    "\n",
    "for train_index, test_index in gkf.split(X, y, groups):\n",
    "    X_train, X_test = X[train_index], X[test_index]\n",
    "    y_train, y_test = y[train_index], y[test_index]\n",
    "\n",
    "    rf.fit(X_train, y_train)\n",
    "\n",
    "    train_pred = rf.predict(X_train)\n",
    "    train_rmse = mean_squared_error(y_train, train_pred, squared=False)\n",
    "    train_scores.append(train_rmse)\n",
    "\n",
    "    # Evaluate on test data\n",
    "\n",
    "    test_pred = rf.predict(X_test)\n",
    "    test_rmse = mean_squared_error(y_test, test_pred, squared=False)\n",
    "    test_scores.append(test_rmse)\n",
    "\n",
    "    # Predicted and actual values\n",
    "    train_predicted_vals.extend(train_pred)\n",
    "    train_actual_vals.extend(y_train)\n",
    "    test_predicted_vals.extend(test_pred)\n",
    "    test_actual_vals.extend(y_test)\n",
    "\n",
    "# Average scores\n",
    "avg_train_rmse = sum(train_scores)/len(train_scores)\n",
    "avg_test_rmse = sum(test_scores)/len(test_scores)\n",
    "\n",
    "print(\"Average Train RMSE:\", avg_train_rmse)\n",
    "print(\"Average Test RMSE: \", avg_test_rmse)\n",
    "    "
   ]
  },
  {
   "cell_type": "code",
   "execution_count": 75,
   "metadata": {},
   "outputs": [
    {
     "data": {
      "image/png": "[encoded data removed]",
      "text/plain": [
       "<Figure size 640x480 with 1 Axes>"
      ]
     },
     "metadata": {},
     "output_type": "display_data"
    }
   ],
   "source": [
    "# Plot the results\n",
    "\n",
    "import matplotlib.pyplot as plt\n",
    "\n",
    "plt.scatter(train_actual_vals, train_predicted_vals, label = 'Train')\n",
    "plt.scatter(test_actual_vals, test_predicted_vals, label= 'Test')\n",
    "plt.xlabel('True Values')\n",
    "plt.ylabel('Predictions')\n",
    "plt.axis('equal')\n",
    "plt.axis('square')\n",
    "plt.xlim([0,plt.xlim()[1]])\n",
    "plt.ylim([0,plt.ylim()[1]])\n",
    "_ = plt.plot([-100, 100], [-100, 100])\n",
    "plt.legend()\n",
    "plt.show()\n"
   ]
  }
 ],
 "metadata": {
  "kernelspec": {
   "display_name": "Python 3",
   "language": "python",
   "name": "python3"
  },
  "language_info": {
   "codemirror_mode": {
    "name": "ipython",
    "version": 3
   },
   "file_extension": ".py",
   "mimetype": "text/x-python",
   "name": "python",
   "nbconvert_exporter": "python",
   "pygments_lexer": "ipython3",
   "version": "3.11.5"
  }
 },
 "nbformat": 4,
 "nbformat_minor": 2
}
