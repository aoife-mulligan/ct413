{
 "cells": [
  {
   "cell_type": "markdown",
   "metadata": {},
   "source": [
    "# Random Forest Model"
   ]
  },
  {
   "cell_type": "code",
   "execution_count": null,
   "metadata": {},
   "outputs": [],
   "source": [
    "\n",
    "import pandas as pd\n",
    "\n",
    "# Read in the data\n",
    "folder_path = 'C:\\\\Users\\\\aoife\\Documents\\\\Project\\\\filtered_data\\\\'\n",
    "\n",
    "save_path = 'C:\\\\Users\\\\aoife\\Documents\\\\Project\\\\'\n",
    "\n",
    "# Read in merged file\n",
    "df = pd.read_csv(folder_path + 'concatenated_data.csv', usecols=['participantId', 'bodyMass_kg', 'height_m', 'bmi', 'mean_hr/s', 'hr_duration_(s)', 'max_hr', 'min_hr', 'totalSteps', 'stepsTotalDuration', 'totalDistance', 'dwrTotalDuration', 'ssq_score'])\n",
    "\n",
    "print(df.head())\n",
    "print(df.shape)"
   ]
  },
  {
   "cell_type": "code",
   "execution_count": null,
   "metadata": {},
   "outputs": [],
   "source": [
    "# Train test split\n",
    "\n",
    "from sklearn.model_selection import GroupKFold, GridSearchCV\n",
    "\n",
    "gkf = GroupKFold(n_splits=10)\n"
   ]
  },
  {
   "cell_type": "code",
   "execution_count": null,
   "metadata": {},
   "outputs": [],
   "source": [
    "# X - features\n",
    "\n",
    "X = df[['bodyMass_kg','height_m','bmi','mean_hr/s','hr_duration_(s)','max_hr','min_hr','totalSteps','stepsTotalDuration','totalDistance','dwrTotalDuration']].values\n",
    "\n",
    "# y - target\n",
    "y = df['ssq_score'].values\n",
    "\n",
    "groups = df['participantId'].values"
   ]
  },
  {
   "cell_type": "code",
   "execution_count": null,
   "metadata": {},
   "outputs": [],
   "source": [
    "from sklearn.ensemble import RandomForestRegressor\n",
    "from sklearn.metrics import mean_squared_error\n",
    "\n",
    "# Define the Random Forest Regressor model\n",
    "rf = RandomForestRegressor(n_estimators=1000, random_state=42)\n",
    "\n",
    "# Lists to store evaluation metrics\n",
    "train_scores = []\n",
    "test_scores = []\n",
    "train_predicted_vals = []\n",
    "train_actual_vals = []\n",
    "test_predicted_vals = []\n",
    "test_actual_vals = []"
   ]
  },
  {
   "cell_type": "code",
   "execution_count": null,
   "metadata": {},
   "outputs": [],
   "source": [
    "\n",
    "\n",
    "for train_index, test_index in gkf.split(X, y, groups):\n",
    "    X_train, X_test = X[train_index], X[test_index]\n",
    "    y_train, y_test = y[train_index], y[test_index]\n",
    "\n",
    "    rf.fit(X_train, y_train)\n",
    "\n",
    "    train_pred = rf.predict(X_train)\n",
    "    train_rmse = mean_squared_error(y_train, train_pred, squared=False)\n",
    "    train_scores.append(train_rmse)\n",
    "\n",
    "    # Evaluate on test data\n",
    "\n",
    "    test_pred = rf.predict(X_test)\n",
    "    test_rmse = mean_squared_error(y_test, test_pred, squared=False)\n",
    "    test_scores.append(test_rmse)\n",
    "\n",
    "    # Predicted and actual values\n",
    "    train_predicted_vals.extend(train_pred)\n",
    "    train_actual_vals.extend(y_train)\n",
    "    test_predicted_vals.extend(test_pred)\n",
    "    test_actual_vals.extend(y_test)\n",
    "\n",
    "# Average scores\n",
    "avg_train_rmse = sum(train_scores)/len(train_scores)\n",
    "avg_test_rmse = sum(test_scores)/len(test_scores)\n",
    "\n",
    "print(\"Average Train RMSE:\", avg_train_rmse)\n",
    "print(\"Average Test RMSE: \", avg_test_rmse)\n",
    "    "
   ]
  },
  {
   "cell_type": "code",
   "execution_count": null,
   "metadata": {},
   "outputs": [],
   "source": [
    "# Plot the results\n",
    "\n",
    "import matplotlib.pyplot as plt\n",
    "\n",
    "plt.scatter(train_actual_vals, train_predicted_vals, label = 'Train')\n",
    "plt.scatter(test_actual_vals, test_predicted_vals, label= 'Test')\n",
    "plt.xlabel('True Values')\n",
    "plt.ylabel('Predictions')\n",
    "plt.axis('equal')\n",
    "plt.axis('square')\n",
    "plt.xlim([0,plt.xlim()[1]])\n",
    "plt.ylim([0,plt.ylim()[1]])\n",
    "_ = plt.plot([-100, 100], [-100, 100])\n",
    "plt.legend()\n",
    "plt.show()\n"
   ]
  }
 ],
 "metadata": {
  "kernelspec": {
   "display_name": "Python 3",
   "language": "python",
   "name": "python3"
  },
  "language_info": {
   "codemirror_mode": {
    "name": "ipython",
    "version": 3
   },
   "file_extension": ".py",
   "mimetype": "text/x-python",
   "name": "python",
   "nbconvert_exporter": "python",
   "pygments_lexer": "ipython3",
   "version": "3.11.5"
  }
 },
 "nbformat": 4,
 "nbformat_minor": 2
}
