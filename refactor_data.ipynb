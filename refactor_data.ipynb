{
 "cells": [
  {
   "cell_type": "markdown",
   "metadata": {},
   "source": [
    "# Refactoring\n",
    "\n",
    "Due to the nature of the study, not all participants will have logged subjective sleep quality scores, on the days where other data was collected. \n",
    "When the data was merged, the days where SSQ score was not present would have been added to the merged dataset if there was any other data collected on that date.\n",
    "\n",
    "This Jupyter notebook will remove rows where SSQ score was NaN/null."
   ]
  },
  {
   "cell_type": "code",
   "execution_count": 13,
   "metadata": {},
   "outputs": [],
   "source": [
    "# Read in merged file\n",
    "\n",
    "import pandas as pd\n",
    "\n",
    "folder_path = 'C:\\\\Users\\\\aoife\\Documents\\\\Project\\\\'\n",
    "\n",
    "# Read in merged file\n",
    "df = pd.read_csv(folder_path + 'merged_data_initial.csv')"
   ]
  },
  {
   "cell_type": "code",
   "execution_count": 14,
   "metadata": {},
   "outputs": [],
   "source": [
    "# Remove rows with missing values in the ssq_score column\n",
    "\n",
    "df = df.dropna(subset=['ssq_score'])\n",
    "\n",
    "# Remove columns active_energy, active_duration\n",
    "\n",
    "df = df.drop(columns=['active_energy', 'active_duration'])\n",
    "df = df.drop(columns=['basal_energy', 'basal_duration'])\n",
    "df = df.drop(columns=['total_energy', 'total_duration'])"
   ]
  },
  {
   "cell_type": "code",
   "execution_count": 15,
   "metadata": {},
   "outputs": [
    {
     "name": "stdout",
     "output_type": "stream",
     "text": [
      "                          participantId  bodyMass  height   startDate  \\\n",
      "0  00a55fb5-da33-4e2e-ae61-28f589fcc174    51.256  1.5748  2016-05-12   \n",
      "1  013d82d7-b3cc-4007-b00c-4d1d75bab9dd    76.204  1.6002  2018-02-21   \n",
      "2  02d5125e-684f-4166-a3b7-5df1bcfc1661    59.874  1.7018  2016-03-05   \n",
      "3  02de7b9b-6116-4ed4-9e3b-45be928aeacb   122.470  1.6256  2018-09-24   \n",
      "4  02e48b8f-c154-4878-ab08-c73502a54aae    94.347  1.8034  2016-09-13   \n",
      "\n",
      "         bmi  mean_hr/s  hr_duration_(s)  max_hr  min_hr  totalNapTime_(s)  \\\n",
      "0  20.667783   1.438426             47.0   1.783   1.017               0.0   \n",
      "1  29.759747        NaN              NaN     NaN     NaN               0.0   \n",
      "2  20.673844   1.107266             64.0   1.783   0.617               0.0   \n",
      "3  46.344941   1.350000              1.0   1.350   1.350               0.0   \n",
      "4  29.009749   1.081226             31.0   1.467   0.833               0.0   \n",
      "\n",
      "   avgNapQuality  totalSteps stepsTotalDuration  totalSteps.1  totalDistance  \\\n",
      "0            0.0        34.0    0 days 00:00:15        4454.0       3970.370   \n",
      "1            0.0        17.0    0 days 00:06:20         120.0         30.590   \n",
      "2            0.0         8.0    0 days 00:00:03       10790.0       1029.530   \n",
      "3            0.0         NaN                NaN           NaN            NaN   \n",
      "4            0.0         NaN                NaN           NaN        431.842   \n",
      "\n",
      "  dwrTotalDuration  ssq_score  \n",
      "0  0 days 00:00:15        3.0  \n",
      "1  0 days 00:06:20        3.0  \n",
      "2  0 days 00:06:00        4.0  \n",
      "3              NaN        4.0  \n",
      "4  0 days 00:01:48        3.0  \n"
     ]
    }
   ],
   "source": [
    "\n",
    "# if any of the values in nap columns are NaN, fill with mean of column\n",
    "df['avgNapQuality'].fillna(0, inplace=True)\n",
    "df['totalNapTime_(s)'].fillna(0, inplace=True)\n",
    "\n",
    "\n",
    "print(df.head())"
   ]
  },
  {
   "cell_type": "code",
   "execution_count": 16,
   "metadata": {},
   "outputs": [],
   "source": [
    "\n",
    "# Save to new csv\n",
    "df.to_csv(folder_path + 'merged_2.csv', index=False)"
   ]
  }
 ],
 "metadata": {
  "kernelspec": {
   "display_name": "Python 3",
   "language": "python",
   "name": "python3"
  },
  "language_info": {
   "codemirror_mode": {
    "name": "ipython",
    "version": 3
   },
   "file_extension": ".py",
   "mimetype": "text/x-python",
   "name": "python",
   "nbconvert_exporter": "python",
   "pygments_lexer": "ipython3",
   "version": "3.11.5"
  }
 },
 "nbformat": 4,
 "nbformat_minor": 2
}
