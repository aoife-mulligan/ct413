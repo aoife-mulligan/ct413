{
 "cells": [
  {
   "cell_type": "markdown",
   "metadata": {},
   "source": [
    "# Refactoring\n",
    "\n",
    "Due to the nature of the study, not all participants will have logged subjective sleep quality scores, on the days where other data was collected. \n",
    "When the data was merged, the days where SSQ score was not present would have been added to the merged dataset if there was any other data collected on that date.\n",
    "\n",
    "This Jupyter notebook will remove rows where SSQ score was NaN/null."
   ]
  },
  {
   "cell_type": "code",
   "execution_count": null,
   "metadata": {},
   "outputs": [],
   "source": [
    "# Read in merged file\n",
    "\n",
    "import pandas as pd\n",
    "\n",
    "folder_path = 'C:\\\\Users\\\\aoife\\Documents\\\\Project\\\\'\n",
    "\n",
    "# Read in merged file\n",
    "df = pd.read_csv(folder_path + 'merged_data_initial.csv')"
   ]
  },
  {
   "cell_type": "code",
   "execution_count": null,
   "metadata": {},
   "outputs": [],
   "source": [
    "# Remove rows with missing values in the ssq_score column\n",
    "\n",
    "df = df.dropna(subset=['ssq_score'])\n",
    "\n",
    "# Remove columns active_energy, active_duration\n",
    "\n",
    "df = df.drop(columns=['active_energy', 'active_duration'])\n",
    "df = df.drop(columns=['basal_energy', 'basal_duration'])\n",
    "df = df.drop(columns=['total_energy', 'total_duration'])"
   ]
  },
  {
   "cell_type": "code",
   "execution_count": null,
   "metadata": {},
   "outputs": [],
   "source": [
    "\n",
    "# if any of the values in nap columns are NaN, fill with mean of column\n",
    "df['avgNapQuality'].fillna(0, inplace=True)\n",
    "df['totalNapTime_(s)'].fillna(0, inplace=True)\n",
    "\n",
    "\n",
    "print(df.head())"
   ]
  },
  {
   "cell_type": "code",
   "execution_count": null,
   "metadata": {},
   "outputs": [],
   "source": [
    "\n",
    "# Save to new csv\n",
    "df.to_csv(folder_path + 'merged_2.csv', index=False)"
   ]
  }
 ],
 "metadata": {
  "kernelspec": {
   "display_name": "Python 3",
   "language": "python",
   "name": "python3"
  },
  "language_info": {
   "codemirror_mode": {
    "name": "ipython",
    "version": 3
   },
   "file_extension": ".py",
   "mimetype": "text/x-python",
   "name": "python",
   "nbconvert_exporter": "python",
   "pygments_lexer": "ipython3",
   "version": "3.11.5"
  }
 },
 "nbformat": 4,
 "nbformat_minor": 2
}
